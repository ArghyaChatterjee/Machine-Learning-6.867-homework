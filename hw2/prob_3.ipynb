{
 "cells": [
  {
   "cell_type": "code",
   "execution_count": 1,
   "metadata": {
    "collapsed": false
   },
   "outputs": [],
   "source": [
    "import numpy as np\n",
    "from logistic_regression import *\n",
    "from SVM import *\n",
    "%load_ext autoreload\n",
    "%autoreload 2\n",
    "import sys\n",
    "sys.path.append('../hw1/')\n",
    "from gradient_descent import GradientDescent, quad, quadGrad\n",
    "import scipy.io\n",
    "import scipy.optimize\n",
    "%matplotlib inline"
   ]
  },
  {
   "cell_type": "code",
   "execution_count": 2,
   "metadata": {
    "collapsed": false
   },
   "outputs": [],
   "source": [
    "def trainTitanic(lam, type=\"train\", rescale=True, useGradientCriterion=True, stepSize=0.01, maxFunctionCalls=10000,\n",
    "                 tol=1e-8, plotIter=True, printSummary=True):\n",
    "    lr = LogisticRegression.fromTitanic(type=type, rescale=rescale, rescaleMethod=\"interval\")\n",
    "    w_guess = np.zeros(12)\n",
    "    w_full = lr.computeDecisionBoundary(w_guess, lam, printSummary=printSummary, stepSize=stepSize, plotIter=plotIter,\n",
    "                                       useGradientCriterion=useGradientCriterion, maxFunctionCalls=maxFunctionCalls,\n",
    "                                       tol=tol)\n",
    "    \n",
    "#     print \"\"\n",
    "#     print \"w_full = \" + str(w_full)\n",
    "#     print \"\"\n",
    "\n",
    "    lr_test = LogisticRegression.fromTitanic(type=\"test\", rescale=rescale)\n",
    "    lr_val = LogisticRegression.fromTitanic(type=\"validate\", rescale=rescale)\n",
    "\n",
    "    if printSummary:\n",
    "    \n",
    "        print \"\"\n",
    "        print \"--Train--\"\n",
    "        cer_train,_ = lr.classificationErrorRate(w_full,verbose=True)\n",
    "        print \"------------\"\n",
    "        print \"\"\n",
    "\n",
    "        print \"\"\n",
    "        print \"--Test--\"\n",
    "        cer_test, _ = lr_test.classificationErrorRate(w_full,verbose=True)\n",
    "        print \"------------\"\n",
    "        print \"\"\n",
    "       \n",
    "        print \"\"\n",
    "        print \"--Validate--\"\n",
    "        cer_val, _ = lr_val.classificationErrorRate(w_full,verbose=True)\n",
    "        print \"------------\"\n",
    "        print \"\"\n",
    "        \n",
    "    else:\n",
    "        cer_train,_ = lr.classificationErrorRate(w_full,verbose=False)\n",
    "        cer_test, _ = lr_test.classificationErrorRate(w_full,verbose=False)\n",
    "        cer_val, _ = lr_val.classificationErrorRate(w_full,verbose=False)\n",
    "    \n",
    "    return np.array([cer_train, cer_test, cer_val])\n",
    "    "
   ]
  },
  {
   "cell_type": "code",
   "execution_count": 3,
   "metadata": {
    "collapsed": false
   },
   "outputs": [
    {
     "name": "stdout",
     "output_type": "stream",
     "text": [
      "WARNING: hit maximum number of function calls\n",
      " \n",
      "--- Minimization Summary --- \n",
      "x_min is = [ -6.14503858e-01   4.64134941e-01   3.77696970e-01  -1.28768950e+00\n",
      "   2.58016745e+00  -2.06904601e-02  -1.33407893e-01   2.17856334e-01\n",
      "   2.33448135e-03  -3.49251868e-01   1.41040304e-01  -2.37646029e-01]\n",
      "f_min is = 86.7598606058\n",
      "achieved tolerance = 0.104570144324\n",
      "numFunctionCalls = 100000\n",
      "---------------------------- \n",
      " \n",
      "--- Classification Summary ---\n",
      "w_full = [ -6.14503858e-01   4.64134941e-01   3.77696970e-01  -1.28768950e+00\n",
      "   2.58016745e+00  -2.06904601e-02  -1.33407893e-01   2.17856334e-01\n",
      "   2.33448135e-03  -3.49251868e-01   1.41040304e-01  -2.37646029e-01]\n",
      "w_full normalized = [ -2.01339966e-01   1.52072134e-01   1.23751046e-01  -4.21906806e-01\n",
      "   8.45382529e-01  -6.77915439e-03  -4.37106133e-02   7.13798395e-02\n",
      "   7.64884368e-04  -1.14431111e-01   4.62113453e-02  -7.78638614e-02]\n",
      "norm of w_full = 3.05207094157\n",
      "lambda = 0.2\n",
      "number of entries missclassified = 36\n",
      "missclassification rate  = 0.18\n",
      "------------------\n",
      "\n"
     ]
    },
    {
     "data": {
      "image/png": "[encoded data removed]",
      "text/plain": [
       "<matplotlib.figure.Figure at 0x1117a4cd0>"
      ]
     },
     "metadata": {},
     "output_type": "display_data"
    },
    {
     "name": "stdout",
     "output_type": "stream",
     "text": [
      "\n",
      "--Train--\n",
      "number of entries missclassified = 36\n",
      "missclassification rate  = 0.18\n",
      "------------\n",
      "\n",
      "\n",
      "--Test--\n",
      "number of entries missclassified = 42\n",
      "missclassification rate  = 0.222222222222\n",
      "------------\n",
      "\n",
      "\n",
      "--Validate--\n",
      "number of entries missclassified = 101\n",
      "missclassification rate  = 0.202\n",
      "------------\n",
      "\n",
      "(3,)\n"
     ]
    }
   ],
   "source": [
    "#lam = .2\n",
    "#a = trainTitanic(lam, rescale=False, printSummary=True, plotIter=True, stepSize=0.00001, maxFunctionCalls=100e3)\n",
    "#print np.shape(a)"
   ]
  },
  {
   "cell_type": "code",
   "execution_count": 4,
   "metadata": {
    "collapsed": false
   },
   "outputs": [
    {
     "data": {
      "image/png": "[encoded data removed]",
      "text/plain": [
       "<matplotlib.figure.Figure at 0x1057d9210>"
      ]
     },
     "metadata": {},
     "output_type": "display_data"
    },
    {
     "name": "stdout",
     "output_type": "stream",
     "text": [
      "[[ 0.17        0.21693122  0.206     ]\n",
      " [ 0.18        0.23809524  0.202     ]\n",
      " [ 0.165       0.24338624  0.206     ]\n",
      " [ 0.165       0.24867725  0.208     ]\n",
      " [ 0.17        0.24338624  0.204     ]\n",
      " [ 0.17        0.24338624  0.204     ]\n",
      " [ 0.17        0.24867725  0.206     ]\n",
      " [ 0.175       0.24867725  0.208     ]\n",
      " [ 0.17        0.24867725  0.206     ]\n",
      " [ 0.17        0.25396825  0.202     ]\n",
      " [ 0.175       0.25396825  0.198     ]\n",
      " [ 0.165       0.25925926  0.19      ]\n",
      " [ 0.165       0.24867725  0.19      ]\n",
      " [ 0.16        0.24338624  0.19      ]\n",
      " [ 0.16        0.24338624  0.186     ]\n",
      " [ 0.155       0.23280423  0.186     ]\n",
      " [ 0.155       0.23280423  0.186     ]\n",
      " [ 0.155       0.23280423  0.186     ]\n",
      " [ 0.155       0.23280423  0.186     ]\n",
      " [ 0.155       0.23280423  0.186     ]\n",
      " [ 0.15        0.23280423  0.186     ]\n",
      " [ 0.15        0.23280423  0.186     ]\n",
      " [ 0.15        0.23280423  0.186     ]\n",
      " [ 0.15        0.23280423  0.186     ]\n",
      " [ 0.15        0.23280423  0.186     ]\n",
      " [ 0.145       0.23280423  0.186     ]\n",
      " [ 0.14        0.23809524  0.188     ]\n",
      " [ 0.14        0.23809524  0.188     ]\n",
      " [ 0.145       0.23280423  0.192     ]\n",
      " [ 0.145       0.23280423  0.192     ]\n",
      " [ 0.145       0.23280423  0.192     ]\n",
      " [ 0.145       0.23280423  0.192     ]\n",
      " [ 0.145       0.23280423  0.192     ]\n",
      " [ 0.17        0.23809524  0.208     ]\n",
      " [ 0.17        0.24867725  0.208     ]\n",
      " [ 0.17        0.24867725  0.208     ]\n",
      " [ 0.17        0.24867725  0.208     ]\n",
      " [ 0.17        0.24867725  0.208     ]\n",
      " [ 0.17        0.24867725  0.208     ]\n",
      " [ 0.17        0.24867725  0.208     ]\n",
      " [ 0.17        0.24867725  0.208     ]\n",
      " [ 0.17        0.24867725  0.208     ]\n",
      " [ 0.165       0.24867725  0.208     ]\n",
      " [ 0.165       0.24867725  0.208     ]\n",
      " [ 0.165       0.24867725  0.206     ]\n",
      " [ 0.165       0.24867725  0.206     ]\n",
      " [ 0.165       0.24867725  0.206     ]\n",
      " [ 0.165       0.24867725  0.206     ]\n",
      " [ 0.165       0.24867725  0.206     ]\n",
      " [ 0.165       0.24867725  0.206     ]\n",
      " [ 0.165       0.24867725  0.206     ]\n",
      " [ 0.165       0.24867725  0.206     ]\n",
      " [ 0.165       0.24867725  0.206     ]\n",
      " [ 0.165       0.24867725  0.206     ]\n",
      " [ 0.165       0.24867725  0.206     ]\n",
      " [ 0.165       0.24867725  0.206     ]\n",
      " [ 0.165       0.24867725  0.204     ]\n",
      " [ 0.165       0.24867725  0.204     ]\n",
      " [ 0.165       0.24867725  0.204     ]\n",
      " [ 0.165       0.24867725  0.208     ]]\n"
     ]
    }
   ],
   "source": [
    "N = 60\n",
    "lambda_vals = np.linspace(0,8,N)\n",
    "cer = np.zeros((N,3))\n",
    "for idx, lam in enumerate(lambda_vals):\n",
    "    cer[idx,:] = trainTitanic(lam, printSummary=False, plotIter=False)\n",
    "\n",
    "plt.plot(lambda_vals, cer[:,0], color='r', label=\"train\")\n",
    "plt.plot(lambda_vals, cer[:,1], color='g', label=\"test\")\n",
    "plt.plot(lambda_vals, cer[:,2], color='b', label=\"val\")\n",
    "# plt.legend(loc='best')\n",
    "plt.legend()\n",
    "plt.xlabel('lambda')\n",
    "plt.ylabel(\"classification error rate\")\n",
    "plt.show()\n",
    "print cer"
   ]
  },
  {
   "cell_type": "code",
   "execution_count": 5,
   "metadata": {
    "collapsed": false
   },
   "outputs": [
    {
     "data": {
      "image/png": "[encoded data removed]",
      "text/plain": [
       "<matplotlib.figure.Figure at 0x113ce6690>"
      ]
     },
     "metadata": {},
     "output_type": "display_data"
    },
    {
     "data": {
      "text/plain": [
       "array([ 0.375     ,  0.39153439,  0.382     ])"
      ]
     },
     "execution_count": 5,
     "metadata": {},
     "output_type": "execute_result"
    }
   ],
   "source": [
    "lam = 50\n",
    "trainTitanic(lam, printSummary=False, plotIter=True)"
   ]
  },
  {
   "cell_type": "code",
   "execution_count": 6,
   "metadata": {
    "collapsed": false
   },
   "outputs": [],
   "source": [
    "#lr.fromTitanic(type=\"test\")\n",
    "#print np.shape(lr.x)"
   ]
  },
  {
   "cell_type": "code",
   "execution_count": 7,
   "metadata": {
    "collapsed": false
   },
   "outputs": [
    {
     "name": "stdout",
     "output_type": "stream",
     "text": [
      " \n",
      "--- Minimization Summary --- \n",
      "x_min is = [-0.85484944  0.35836282  0.33523583 -0.69359864  1.64089677 -0.26719336\n",
      " -0.00429251  0.23077402  0.15791133 -0.25596015  0.22996793  0.02599222]\n",
      "f_min is = 101.053992266\n",
      "achieved tolerance = 9.99051535944e-09\n",
      "numFunctionCalls = 706\n",
      "---------------------------- \n",
      " \n",
      "--- Classification Summary ---\n",
      "w_full = [-0.85484944  0.35836282  0.33523583 -0.69359864  1.64089677 -0.26719336\n",
      " -0.00429251  0.23077402  0.15791133 -0.25596015  0.22996793  0.02599222]\n",
      "w_full normalized = [-0.40689241  0.17057402  0.15956601 -0.33014003  0.78103629 -0.12717906\n",
      " -0.00204316  0.10984413  0.07516285 -0.12183226  0.10946045  0.01237181]\n",
      "norm of w_full = 2.10092256476\n",
      "lambda = 2.5\n",
      "number of entries missclassified = 31\n",
      "missclassification rate  = 0.155\n",
      "------------------\n",
      "\n"
     ]
    },
    {
     "data": {
      "image/png": "[encoded data removed]",
      "text/plain": [
       "<matplotlib.figure.Figure at 0x113ee63d0>"
      ]
     },
     "metadata": {},
     "output_type": "display_data"
    },
    {
     "name": "stdout",
     "output_type": "stream",
     "text": [
      "\n",
      "--Train--\n",
      "number of entries missclassified = 31\n",
      "missclassification rate  = 0.155\n",
      "------------\n",
      "\n",
      "\n",
      "--Test--\n",
      "number of entries missclassified = 44\n",
      "missclassification rate  = 0.232804232804\n",
      "------------\n",
      "\n",
      "\n",
      "--Validate--\n",
      "number of entries missclassified = 93\n",
      "missclassification rate  = 0.186\n",
      "------------\n",
      "\n"
     ]
    },
    {
     "data": {
      "text/plain": [
       "array([ 0.155     ,  0.23280423,  0.186     ])"
      ]
     },
     "execution_count": 7,
     "metadata": {},
     "output_type": "execute_result"
    }
   ],
   "source": [
    "lam = 2.5\n",
    "trainTitanic(lam)"
   ]
  },
  {
   "cell_type": "code",
   "execution_count": 32,
   "metadata": {
    "collapsed": false
   },
   "outputs": [],
   "source": [
    "def trainTitanicSVM(typef=\"train\", rescale=True, printSummary=True, kernel=\"linear\", C=1.0, bandwidth=1.0):\n",
    "    svm = SVM.fromTitanic(typef=typef, rescale=rescale, rescaleMethod=\"interval\", kernel=kernel, C=C, bandwidth=bandwidth)\n",
    "    svm.computeSolution()\n",
    "    print svm.theta\n",
    "    \n",
    "    if printSummary:\n",
    "    \n",
    "        print \"\"\n",
    "        print \"--Train--\"\n",
    "        cer_train,_ = svm.CER_type(typef=\"train\", rescale=rescale, verbose=True, rescaleMethod=\"interval\")\n",
    "        print \"------------\"\n",
    "        print \"\"\n",
    "\n",
    "        print \"\"\n",
    "        print \"--Test--\"\n",
    "        cer_test, _ = svm.CER_type(typef=\"test\", rescale=rescale, verbose=True, rescaleMethod=\"interval\")\n",
    "        print \"------------\"\n",
    "        print \"\"\n",
    "       \n",
    "        print \"\"\n",
    "        print \"--Validate--\"\n",
    "        cer_val,_ = svm.CER_type(typef=\"validate\", rescale=rescale, verbose=True, rescaleMethod=\"interval\")\n",
    "        print \"------------\"\n",
    "        print \"\"\n",
    "        \n",
    "    else:\n",
    "        cer_train,_ = svm.CER_type(typef=\"train\", rescale=rescale, verbose=False, rescaleMethod=\"interval\")\n",
    "        cer_test, _ = svm.CER_type(typef=\"test\", rescale=rescale, verbose=False, rescaleMethod=\"interval\")\n",
    "        cer_val, _ = svm.CER_type(typef=\"validate\", rescale=rescale, verbose=False, rescaleMethod=\"interval\")\n",
    "    \n",
    "    \n",
    "    return np.array([cer_train, cer_test, cer_val])\n",
    "    "
   ]
  },
  {
   "cell_type": "code",
   "execution_count": 33,
   "metadata": {
    "collapsed": false
   },
   "outputs": [
    {
     "name": "stdout",
     "output_type": "stream",
     "text": [
      "     pcost       dcost       gap    pres   dres\n",
      " 0: -1.0878e+02 -5.0650e+02  2e+03  3e+00  1e-11\n",
      " 1: -7.0384e+01 -3.2983e+02  3e+02  1e-01  1e-11\n",
      " 2: -7.3490e+01 -1.1606e+02  5e+01  2e-02  7e-12\n",
      " 3: -7.8658e+01 -9.2495e+01  1e+01  5e-03  7e-12\n",
      " 4: -7.9372e+01 -8.3227e+01  4e+00  2e-04  1e-11\n",
      " 5: -7.9980e+01 -8.0179e+01  2e-01  7e-06  9e-12\n",
      " 6: -8.0000e+01 -8.0002e+01  2e-03  8e-08  2e-11\n",
      " 7: -8.0000e+01 -8.0000e+01  2e-05  8e-10  8e-12\n",
      "Optimal solution found.\n",
      "[  2.61632190e-06   2.57128655e-06  -5.18760845e-06   2.00000011e+00\n",
      "  -7.11265891e-09   1.62793660e-08   1.09824045e-07  -4.57358595e-11\n",
      "  -2.53879172e-06  -2.39236022e-06   4.93115194e-06]\n"
     ]
    },
    {
     "data": {
      "image/png": "[encoded data removed]",
      "text/plain": [
       "<matplotlib.figure.Figure at 0x11ce4af90>"
      ]
     },
     "metadata": {},
     "output_type": "display_data"
    },
    {
     "name": "stdout",
     "output_type": "stream",
     "text": [
      "[[ 0.195]\n",
      " [ 0.23 ]\n",
      " [ 0.525]]\n"
     ]
    }
   ],
   "source": [
    "#C = [0.00001, 0.0001, 0.001, 0.01, 1, 10, 100, 1000]\n",
    "C = [1]\n",
    "cer = np.zeros((3,len(C)))\n",
    "\n",
    "for i in range(len(C)):\n",
    "    a = trainTitanicSVM(typef=\"train\", rescale=False, printSummary=False, C = C[i])\n",
    "    cer[:,i] = a\n",
    "    \n",
    "plt.semilogx(C, cer[0,:], color='r', label=\"train\")\n",
    "plt.semilogx(C, cer[1,:], color='g', label=\"test\")\n",
    "plt.semilogx(C, cer[2,:], color='b', label=\"val\")\n",
    "# plt.legend(loc='best')\n",
    "plt.legend()\n",
    "plt.xlabel('lambda')\n",
    "plt.ylabel(\"classification error rate\")\n",
    "plt.show()\n",
    "print cer"
   ]
  },
  {
   "cell_type": "code",
   "execution_count": null,
   "metadata": {
    "collapsed": false
   },
   "outputs": [],
   "source": [
    "print cer"
   ]
  },
  {
   "cell_type": "code",
   "execution_count": 18,
   "metadata": {
    "collapsed": false
   },
   "outputs": [
    {
     "name": "stdout",
     "output_type": "stream",
     "text": [
      "     pcost       dcost       gap    pres   dres\n",
      " 0:  5.7503e+04 -1.6832e+06  2e+06  4e-13  9e-14\n",
      " 1:  1.3844e+04 -2.2334e+05  2e+05  2e-14  8e-14\n",
      " 2: -4.1692e+03 -9.6238e+04  9e+04  4e-13  9e-14\n",
      " 3: -1.0379e+04 -3.3900e+04  2e+04  4e-14  9e-14\n",
      " 4: -1.2882e+04 -2.3672e+04  1e+04  2e-15  1e-13\n",
      " 5: -1.4174e+04 -1.7963e+04  4e+03  5e-14  1e-13\n",
      " 6: -1.4583e+04 -1.6448e+04  2e+03  1e-13  1e-13\n",
      " 7: -1.4799e+04 -1.5665e+04  9e+02  7e-15  1e-13\n",
      " 8: -1.4938e+04 -1.5205e+04  3e+02  6e-15  1e-13\n",
      " 9: -1.4994e+04 -1.5059e+04  7e+01  1e-13  2e-13\n",
      "10: -1.5007e+04 -1.5027e+04  2e+01  3e-14  2e-13\n",
      "11: -1.5012e+04 -1.5016e+04  4e+00  6e-14  2e-13\n",
      "12: -1.5013e+04 -1.5014e+04  7e-01  2e-14  2e-13\n",
      "13: -1.5013e+04 -1.5013e+04  2e-01  3e-13  2e-13\n",
      "14: -1.5013e+04 -1.5013e+04  6e-03  4e-13  2e-13\n",
      "Optimal solution found.\n",
      "\n",
      "--Train--\n",
      "fed in titanic data of type train\n",
      "(200, 11)\n",
      "(200,)\n",
      "[-1. -1. -1. -1.  1.  1. -1.  1.  1. -1. -1.  1. -1. -1.  1.  1. -1. -1.\n",
      "  1. -1. -1. -1. -1.  1.  1. -1. -1. -1.  1.  1. -1. -1.  1. -1.  1. -1.\n",
      "  1.  1.  1.  1. -1. -1. -1.  1.  1.  1.  1. -1.  1. -1. -1. -1. -1. -1.\n",
      " -1. -1.  1. -1.  1.  1. -1. -1. -1. -1.  1. -1. -1. -1.  1.  1.  1.  1.\n",
      " -1.  1. -1. -1. -1. -1.  1. -1.  1. -1.  1. -1. -1. -1. -1. -1.  1. -1.\n",
      "  1. -1. -1. -1.  1.  1.  1.  1.  1. -1.  1.  1. -1. -1.  1. -1. -1. -1.\n",
      "  1.  1. -1.  1. -1.  1. -1. -1.  1. -1. -1. -1.  1. -1. -1. -1.  1.  1.\n",
      " -1. -1. -1.  1. -1. -1.  1. -1. -1. -1. -1.  1.  1.  1. -1. -1. -1.  1.\n",
      " -1.  1. -1.  1. -1.  1. -1. -1.  1. -1.  1. -1. -1. -1.  1.  1. -1. -1.\n",
      " -1. -1. -1.  1. -1. -1. -1.  1.  1. -1. -1. -1.  1. -1. -1. -1.  1.  1.\n",
      " -1. -1. -1.  1. -1. -1. -1. -1.  1. -1. -1.  1. -1. -1. -1. -1. -1. -1.\n",
      " -1. -1.]\n",
      "[ 2.42768501 -0.56288537 -0.64000183 -1.60521125  1.40355527 -0.50719062\n",
      " -0.88839653  2.98470438  2.58317805 -0.89542868 -0.92615212  1.22461591\n",
      " -0.90175053 -0.90174728 -0.31404958 -0.93540293 -1.02246352 -0.90174698\n",
      "  1.83858539 -1.22856048 -0.99732125 -1.72409062 -1.80263537 -0.63535279\n",
      "  1.10266245 -0.7418972  -0.55409808 -1.07243988 -0.97767451  0.18206934\n",
      " -0.67877891 -1.14721609  1.753001    0.50138735  2.12773367 -0.70589368\n",
      "  1.09659557  1.16811925 -0.94844984  0.65905489 -0.11621669 -0.99032\n",
      "  1.25838698  4.2926596   1.05517823  0.84458043 -0.92615212 -0.41524591\n",
      "  1.08128552 -0.3986683  -2.09794741  1.15263052 -1.61472587 -1.60521125\n",
      " -2.00022608 -2.25257834  1.30502007 -0.90583916  0.62639113  1.66181047\n",
      "  0.90056304 -0.96741735 -1.7354612  -1.61024242  0.94315837 -1.2875289\n",
      "  2.69851686  0.96354724  1.30627604 -0.94265399  0.80549877  1.09659557\n",
      "  0.56283815 -0.19202808 -0.37692684 -0.90951715 -0.96950807  1.07110844\n",
      "  1.7627547  -0.96949479  2.63856347 -1.39513922 -0.02239249 -0.97616441\n",
      " -0.90188282 -1.09609399 -1.27583934  1.30591549  1.40829799 -0.90170131\n",
      "  2.40689418 -1.0412182  -0.90778047 -0.36667468  0.68552377 -1.20364279\n",
      "  0.96337533 -0.91804913  0.9103565  -1.32571949 -0.9275272   1.79517992\n",
      " -0.32089894 -1.8895284   0.85226314  1.25776167 -1.20073095  0.13521156\n",
      "  0.01431     0.98301685  1.06128752  1.10266245 -1.12781376  1.00426541\n",
      " -1.22669303 -0.96330544  1.30064756 -1.12781376 -1.27302819 -1.08208088\n",
      "  2.41460625 -1.16600818 -0.91411819 -0.90174714  1.09659557  1.0697568\n",
      " -0.96772346 -1.82549307 -1.01095766  1.77640033 -1.17926296 -1.93872006\n",
      "  1.02574647 -1.74412672 -1.60295371 -0.94643294 -0.70677787 -0.31356996\n",
      " -0.76201317 -0.86549367 -1.83732742 -2.00043953 -1.60295371  1.0788184\n",
      " -1.55682319  1.09726167 -2.36094183 -0.39063042 -1.00642888  1.41969879\n",
      " -1.30919843 -1.42254917  1.45385831  1.60074866 -0.91507921 -0.90174559\n",
      "  1.63085652 -1.21235513  1.96842691  1.19777766 -0.99576858 -2.02590828\n",
      "  0.77943372 -0.89122826 -0.96121789 -1.21996538 -0.6680718  -0.99154962\n",
      " -1.61472587  1.37373217  0.35372555  0.66020408 -1.16301653  0.63646501\n",
      " -1.11643721 -1.59151302 -1.78826193 -1.83820913 -0.70044023  1.65899006\n",
      " -1.01483058 -1.08451163 -1.48146624  1.40355527 -1.20981223 -0.58455228\n",
      " -0.68385749  0.85711937 -1.30417917 -1.60295371  0.22337852  0.06195891\n",
      " -1.78279072 -1.49400955 -1.03661733 -1.11300124 -1.82531253 -1.60295371\n",
      " -1.60295371 -1.03630505]\n",
      "number of entries missclassified = 42\n",
      "missclassification rate  = 0.084\n",
      "------------\n",
      "\n",
      "\n",
      "--Test--\n",
      "fed in titanic data of type test\n",
      "(189, 11)\n",
      "(189,)\n",
      "[ 1. -1.  1. -1.  1.  1. -1. -1. -1. -1.  1. -1. -1. -1.  1. -1. -1. -1.\n",
      " -1. -1. -1.  1.  1. -1. -1.  1. -1. -1. -1. -1.  1.  1. -1.  1. -1.  1.\n",
      " -1.  1.  1. -1. -1. -1.  1. -1. -1.  1.  1. -1. -1.  1. -1. -1. -1. -1.\n",
      " -1. -1. -1. -1.  1.  1. -1. -1.  1. -1. -1.  1. -1. -1.  1. -1.  1. -1.\n",
      "  1.  1. -1. -1.  1. -1.  1.  1. -1.  1. -1. -1. -1. -1.  1.  1. -1. -1.\n",
      "  1.  1. -1.  1.  1. -1.  1.  1.  1. -1. -1. -1. -1.  1. -1. -1.  1. -1.\n",
      "  1.  1.  1. -1. -1.  1.  1. -1. -1. -1.  1. -1. -1. -1. -1.  1. -1.  1.\n",
      "  1.  1.  1.  1.  1.  1.  1. -1. -1. -1.  1.  1. -1. -1. -1. -1. -1.  1.\n",
      " -1. -1. -1.  1. -1. -1. -1. -1.  1. -1. -1. -1. -1. -1. -1. -1. -1. -1.\n",
      "  1. -1.  1.  1. -1. -1.  1.  1. -1.  1. -1.  1. -1. -1. -1. -1. -1.  1.\n",
      "  1. -1. -1.  1.  1. -1. -1.  1. -1.]\n",
      "[ 1.10035399 -0.92470114 -1.68594424 -1.80714893  1.75325249  0.01887806\n",
      " -2.53412944 -0.48768176 -0.7367435  -2.16012468  1.81751178 -0.40612241\n",
      "  0.77949513 -0.70589368  1.75217402 -0.71316097 -1.28759043 -1.60521125\n",
      " -1.31015089  0.06184152 -0.89763672  3.93213711 -1.01340342 -0.90168608\n",
      " -1.27583934  0.92898873 -0.94778609 -1.05989668 -1.36418955 -1.60295371\n",
      "  1.09659557  1.06211697 -1.83820913  3.41168249 -1.57759351  0.92104674\n",
      " -1.33228698 -0.61696869  0.8777662  -0.96411239 -2.94402182 -0.90174728\n",
      "  0.84317543 -0.89967332 -1.22485516  0.22698227  0.77697851 -1.04810314\n",
      " -0.88832559 -1.16894238 -1.00719758 -0.97709582 -1.44893097 -1.00041013\n",
      "  0.12518742 -2.53280886  1.99317968 -0.96949479 -2.15678438  1.29698057\n",
      "  0.92671053  1.11382615  0.84089086 -1.21619593 -0.85705539  0.01973345\n",
      " -0.90174728 -1.2981594   0.15975551 -1.06063435  2.45501816 -0.87984468\n",
      " -1.39513922  1.64290261 -0.72423452  1.55603681  0.84013211  0.98195318\n",
      "  1.09825307  0.89138786 -1.87361571  0.54387839 -1.02098099 -1.10230413\n",
      "  0.47434174 -0.84882081 -0.70044023  0.58475955 -0.32096052 -0.87660812\n",
      "  3.37825336 -0.75047519 -0.89818306  1.07243646  1.06389617 -1.10300755\n",
      "  0.66020408  0.90422909  1.08526577 -1.07140197 -1.60295371 -0.90188282\n",
      "  1.05102387  1.85937123 -1.80506081 -0.92503298 -0.89041657 -1.08359328\n",
      " -0.39072695  3.72984912  0.63442219 -1.30441676 -0.15214512  0.17370184\n",
      " -1.05932869 -0.28861449 -1.77396164 -1.51963725  1.3421242  -0.5759394\n",
      " -0.90188282 -1.93872006 -0.94008315 -0.87984468 -1.05044396  1.20299538\n",
      "  0.052686    0.16269335 -1.0199504  -1.0172797   3.73301216  0.03301458\n",
      "  0.22209284 -1.35505626 -0.89110267 -1.60295371 -0.5843579   1.43567345\n",
      " -1.51853357  5.20499268 -0.9013758  -1.05044396  0.43443316  0.79132817\n",
      " -0.92501204 -1.079218   -0.76611233  4.50179349  1.03813102 -0.93425542\n",
      " -1.22669303 -2.24855654  0.22981539  0.9411593  -1.22669303 -1.07347373\n",
      " -1.23977544 -1.60295371  0.67372282 -0.95961632 -1.60521125  1.03788513\n",
      " -0.92526014 -2.32842698  1.27359233  2.24013893 -0.34131266 -0.97936191\n",
      "  0.03602868  0.75199353 -0.89289303 -0.8628545  -1.07243988  1.62865656\n",
      "  0.18914992 -0.06951921 -1.16717157 -0.89021452 -0.01903571  0.77395514\n",
      " -0.95251957 -0.98720262 -0.9057903   2.42549647  1.13801837 -1.00153506\n",
      " -0.70589368  1.04911373 -0.88884806]\n",
      "number of entries missclassified = 35\n",
      "missclassification rate  = 0.07\n",
      "------------\n",
      "\n",
      "\n",
      "--Validate--\n",
      "fed in titanic data of type validate\n",
      "(500, 11)\n",
      "(500,)\n",
      "[-1. -1. -1. -1.  1.  1. -1. -1.  1. -1. -1.  1. -1. -1.  1. -1.  1.  1.\n",
      " -1.  1. -1.  1.  1. -1.  1. -1.  1. -1. -1.  1. -1. -1.  1. -1. -1. -1.\n",
      " -1.  1. -1.  1. -1. -1. -1.  1. -1.  1. -1. -1.  1. -1. -1. -1. -1. -1.\n",
      " -1. -1. -1.  1. -1.  1. -1. -1. -1. -1. -1.  1. -1.  1.  1.  1. -1.  1.\n",
      " -1.  1. -1. -1. -1. -1. -1.  1. -1. -1.  1. -1.  1.  1.  1. -1. -1.  1.\n",
      " -1. -1. -1. -1. -1. -1. -1.  1.  1. -1.  1. -1. -1.  1. -1. -1.  1. -1.\n",
      " -1.  1. -1. -1. -1. -1.  1. -1. -1.  1. -1. -1. -1. -1. -1.  1.  1. -1.\n",
      "  1. -1. -1. -1. -1. -1. -1. -1. -1.  1. -1. -1. -1. -1. -1.  1. -1. -1.\n",
      " -1.  1. -1.  1. -1. -1. -1. -1.  1. -1.  1. -1. -1.  1.  1.  1. -1.  1.\n",
      "  1. -1.  1. -1. -1. -1.  1. -1. -1.  1. -1. -1. -1.  1.  1. -1. -1. -1.\n",
      " -1. -1. -1. -1. -1. -1.  1.  1. -1.  1. -1. -1.  1. -1. -1.  1.  1. -1.\n",
      " -1. -1.  1.  1.  1.  1.  1.  1. -1. -1. -1.  1. -1. -1. -1. -1. -1. -1.\n",
      " -1.  1.  1. -1.  1. -1.  1.  1. -1.  1. -1. -1. -1. -1.  1. -1.  1.  1.\n",
      " -1. -1. -1.  1.  1. -1.  1. -1.  1.  1.  1.  1. -1. -1.  1.  1.  1.  1.\n",
      " -1.  1. -1. -1. -1. -1. -1. -1. -1. -1. -1.  1.  1. -1. -1.  1.  1. -1.\n",
      " -1. -1.  1.  1. -1.  1.  1. -1. -1. -1. -1. -1.  1. -1. -1. -1.  1.  1.\n",
      " -1.  1. -1. -1. -1.  1. -1.  1. -1.  1. -1. -1. -1. -1.  1. -1.  1. -1.\n",
      " -1.  1.  1.  1. -1. -1.  1.  1. -1. -1.  1. -1.  1.  1. -1.  1.  1.  1.\n",
      "  1.  1.  1. -1. -1. -1. -1. -1. -1.  1.  1. -1. -1. -1. -1. -1.  1. -1.\n",
      "  1. -1. -1. -1. -1. -1. -1. -1. -1. -1.  1. -1.  1. -1.  1.  1.  1. -1.\n",
      "  1.  1. -1.  1. -1. -1.  1.  1.  1. -1.  1. -1.  1.  1. -1.  1.  1.  1.\n",
      " -1. -1. -1.  1.  1. -1. -1. -1. -1. -1. -1. -1.  1. -1. -1. -1. -1. -1.\n",
      "  1.  1. -1.  1.  1. -1.  1.  1. -1.  1. -1. -1. -1. -1. -1.  1.  1. -1.\n",
      " -1. -1.  1. -1.  1. -1. -1.  1. -1.  1.  1.  1. -1. -1. -1. -1. -1.  1.\n",
      " -1. -1. -1. -1. -1. -1. -1. -1.  1.  1. -1. -1. -1. -1. -1. -1.  1. -1.\n",
      "  1.  1.  1.  1.  1. -1.  1. -1. -1. -1. -1.  1.  1. -1. -1. -1. -1. -1.\n",
      "  1.  1.  1. -1.  1. -1. -1.  1.  1. -1.  1. -1.  1. -1. -1.  1. -1.  1.\n",
      "  1. -1.  1. -1.  1. -1. -1. -1. -1. -1. -1.  1. -1.  1.]\n",
      "[-0.90174728 -0.90178795 -1.28866217 -1.0834249   1.65370317  3.0973522\n",
      " -0.90174701 -0.90174676 -1.02118765 -1.13368445 -0.88820085  1.09825262\n",
      " -1.03469616 -0.9887476   0.71788454 -0.97709582  1.09825291  1.09825264\n",
      " -1.60295371  1.09825341 -0.90174654  2.20586785  1.09825313 -1.39525642\n",
      "  0.5089089  -0.90174654  1.0982532   0.29175728 -0.90174703  0.34861134\n",
      " -0.71402268 -0.90174735  0.51711134 -0.90175069 -1.28709034 -0.90174687\n",
      " -1.00642888  1.09825235 -0.78869489 -0.70580647 -1.01974329  0.65050297\n",
      " -1.46242462  1.0982531  -0.90175413  1.61470236 -1.70585341 -0.90174686\n",
      "  1.09659557 -1.31015089 -0.90174648 -0.9530958  -1.34540935 -0.90174711\n",
      " -1.00790939 -0.97709582 -1.04627499  1.2237471  -0.98315568  1.09825309\n",
      " -0.90174667 -1.88955817 -0.90174643 -0.90174728 -0.90174689  2.25684082\n",
      " -1.60521125  1.09825312  1.09825304 -0.23528956 -1.19977076  1.99843193\n",
      " -0.87831051 -0.89030662 -0.99167962 -1.21781407 -0.90174618 -2.76627444\n",
      " -1.0834249   1.39596291 -0.95638536 -0.95500695 -0.84740323 -0.92501204\n",
      " -0.90174709  1.09825383 -0.50519872 -1.57966786 -1.05989668  1.09825326\n",
      " -1.06692457 -0.90174696 -0.90175053 -1.31015089 -0.90174689 -1.51804011\n",
      " -1.59337688 -0.90174728  1.09825314 -1.72991104  1.09825598 -0.92014274\n",
      " -1.81725175  1.09825343 -0.90174686 -1.10837651  1.09825323 -0.02647365\n",
      " -0.90174506  1.09825319 -0.98462219 -1.57678531 -1.60521125 -1.07832444\n",
      " -1.32887584 -0.97376143 -2.20773771  1.47383014 -0.90174752 -0.90174689\n",
      "  0.67526579 -1.38590179 -1.45336925  1.0005648  -0.89678483 -0.90174711\n",
      "  1.09825344 -0.92615212 -0.78532698 -0.90174681 -1.02590016 -0.90174686\n",
      " -2.50309576  1.52366101 -0.90174671  1.09825317 -1.60295371 -0.94874797\n",
      " -0.93201774 -0.62009711 -0.90174675 -0.96631548 -0.94231029 -0.90174728\n",
      " -0.68327155  1.4002756  -0.93788116  0.75133754 -0.9017599  -0.9302918\n",
      " -1.16626979 -0.91326225  1.72753165 -1.10300755  0.92216992 -1.42751745\n",
      " -0.90174728  1.29117385 -0.38017154  1.12524623  1.13991563  1.09825949\n",
      "  1.09825307 -1.00753713  1.09825394 -0.90174924 -0.90174693 -0.96121789\n",
      "  1.09825347 -0.56571747 -0.83705536 -1.60202858 -1.60521125 -0.90174651\n",
      " -1.34703484 -0.01328499  1.22852661 -0.90174687  1.09825314 -0.98950283\n",
      " -0.90174682 -0.89971352 -2.26081591 -0.9017469  -1.05460559 -0.9275272\n",
      "  1.09825334  1.7694754  -2.43737839 -1.08451163 -0.90174689 -1.39622371\n",
      "  1.09825312 -1.16432903 -0.90583916  1.09825314  1.09825345 -0.76496768\n",
      "  0.3116082  -0.91307466  1.11569949  1.86222176  1.09825656  1.09826246\n",
      "  0.81749404  1.18890146 -1.83820913 -1.60696628 -1.01974329  1.0982525\n",
      " -0.90174931 -1.82643444 -1.29544218 -1.44321113 -1.46955597 -0.90174675\n",
      "  0.77540325  1.09825327  1.67335613 -0.85526962  1.34141136 -1.60521125\n",
      " -0.96753884 -0.64820915 -0.88884806  1.42500178 -1.60295371 -1.26648532\n",
      " -0.89699134  0.96357516  1.23597337 -1.15330611  1.10266245  0.58636295\n",
      " -1.16241135 -1.21343     1.09659557 -0.82096984  1.78460892 -1.15872662\n",
      "  1.09825312  0.9146522   1.04911373 -0.77032252  0.68900155  1.56391678\n",
      " -0.90174665 -1.07257038  1.17131745  0.02163112  1.76274777  1.09825401\n",
      " -0.90554726  1.09825354 -0.90174777 -0.90174685 -0.9017466  -0.90175053\n",
      " -0.90174687 -1.32456663 -0.94874797 -1.11671773 -0.96949479 -1.06374783\n",
      "  1.7652239   1.09061678 -1.05017516  1.09825764  1.09825175 -0.99294101\n",
      " -0.94567582 -1.60521125  1.64584005  0.83120873 -1.03484253  1.09825343\n",
      "  1.09825492 -0.96348733 -0.90206093  0.3074201  -2.43793518 -1.41277628\n",
      "  1.09825316 -0.90174689 -0.89590527 -0.90174686  0.8651228   1.09578692\n",
      " -0.93250356 -0.55757612 -1.19586127 -1.05218602 -1.61377424  1.09826268\n",
      " -0.90174728  1.34727625 -0.90174673  4.11428496 -0.90174595 -1.06437835\n",
      " -1.20629451 -1.62421069  1.09825259 -0.96741735  1.09825767 -0.90174728\n",
      " -0.90174686  1.09659557  1.68826608  1.53896043 -1.60521125 -0.90165633\n",
      "  1.09825885  1.15019208 -0.51783978  0.91201912  1.09825327 -1.23783434\n",
      "  1.02585366  3.17718777 -1.11081429 -0.28688516  1.09825312  1.11804316\n",
      " -0.86085996  2.44961878  1.03181629 -0.94704754 -1.83820913 -0.89289303\n",
      " -0.90174669 -0.96972353 -1.43559243  1.09825294 -0.01656455 -1.05240817\n",
      " -0.90174689 -1.09048923 -1.00642888 -0.65830733  3.57019771 -0.90645328\n",
      "  1.09825108 -0.83705536 -0.74215343 -0.91243571  0.51210601 -0.96331233\n",
      "  0.55315316 -1.00153506 -1.079218   -0.90174703 -1.60696628 -0.90174696\n",
      " -0.90914624 -0.90174714  1.092059    1.09825301  1.83858539 -0.38458709\n",
      "  1.36155888  1.09825393 -2.22959837  1.16136655 -0.90174619 -1.4770526\n",
      "  1.09825586  1.0982535   3.80670988 -0.9017471   1.09825224 -0.90175053\n",
      "  1.09825644 -0.90784936 -0.90174758  1.32942153 -0.96121789  1.65315999\n",
      " -1.23189444 -0.90174559 -0.90188282  1.44294976 -0.71402268 -1.60521125\n",
      " -0.54335315 -1.61472587 -0.90174716 -0.90174694  0.80719008  0.13856797\n",
      "  1.18890146 -0.90174654 -0.9017469  -1.05989668 -1.14709046  0.34377895\n",
      "  0.54387839  1.53601403 -1.83820913  1.44476199  2.10866013 -0.93142857\n",
      "  1.09599083  2.86042197 -1.07832444  1.09825264 -1.83820913 -0.90174709\n",
      " -1.23843636 -0.70580647 -0.90175055  1.03764947 -1.83288624 -0.90188282\n",
      " -2.35585855 -1.60521125  1.81295808 -0.90174686  0.54149602 -0.90174689\n",
      " -0.91970877  1.29038726 -0.85548984  1.14017618 -1.00790939  1.58923597\n",
      " -0.7867601  -1.61493645 -0.90610664 -0.90778047  0.16991834 -1.12504969\n",
      " -0.90610664  0.16426453 -0.90174804 -0.90167133 -0.91591077  0.16083929\n",
      " -0.91754573 -1.44935256  1.09825313  1.09825315 -2.2899093  -1.65769501\n",
      " -0.90175357 -1.06697956 -0.90174882 -1.60521125  1.09839083 -2.29563588\n",
      "  4.50179349  1.09825336  2.60673167  1.29034011  2.4476461  -0.90174729\n",
      "  1.09825283 -0.7418972  -1.00599306 -1.02396035 -0.90174692  1.09659557\n",
      " -0.84293172 -0.95127914 -0.93302426 -0.90174664 -0.19311281 -0.97322897\n",
      "  4.83587211  1.09826141 -0.90188282  0.34377895  1.09825314 -0.88839653\n",
      " -1.36637437  2.1564038   1.70569933  0.42591012  1.09825309 -0.88911127\n",
      "  1.03429358 -1.1061989  -0.96015795 -0.87858684 -1.38130072  1.09825321\n",
      "  1.09825325 -0.90174698 -0.37068457 -0.90174717  1.09825332 -0.90174689\n",
      " -1.61785843 -0.90174695 -0.82395145 -0.06068951 -1.49087635  1.09825311\n",
      " -0.90174689  1.53493335]\n",
      "number of entries missclassified = 60\n",
      "missclassification rate  = 0.12\n",
      "------------\n",
      "\n",
      "(3,)\n"
     ]
    }
   ],
   "source": [
    "a = trainTitanicSVM(typef=\"validate\", rescale=False, kernel=\"Gaussian\", C=100, bandwidth=10)\n"
   ]
  },
  {
   "cell_type": "code",
   "execution_count": null,
   "metadata": {
    "collapsed": true
   },
   "outputs": [],
   "source": []
  }
 ],
 "metadata": {
  "kernelspec": {
   "display_name": "Python 2",
   "language": "python",
   "name": "python2"
  },
  "language_info": {
   "codemirror_mode": {
    "name": "ipython",
    "version": 2
   },
   "file_extension": ".py",
   "mimetype": "text/x-python",
   "name": "python",
   "nbconvert_exporter": "python",
   "pygments_lexer": "ipython2",
   "version": "2.7.10"
  }
 },
 "nbformat": 4,
 "nbformat_minor": 0
}
