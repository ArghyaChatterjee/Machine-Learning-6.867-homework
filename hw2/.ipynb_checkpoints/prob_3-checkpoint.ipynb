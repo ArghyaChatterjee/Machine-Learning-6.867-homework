{
 "cells": [
  {
   "cell_type": "code",
   "execution_count": 3,
   "metadata": {
    "collapsed": false
   },
   "outputs": [
    {
     "name": "stdout",
     "output_type": "stream",
     "text": [
      "The autoreload extension is already loaded. To reload it, use:\n",
      "  %reload_ext autoreload\n"
     ]
    }
   ],
   "source": [
    "import numpy as np\n",
    "from logistic_regression import *\n",
    "from SVM import *\n",
    "%load_ext autoreload\n",
    "%autoreload 2\n",
    "import sys\n",
    "sys.path.append('../hw1/')\n",
    "from gradient_descent import GradientDescent, quad, quadGrad\n",
    "import scipy.io\n",
    "import scipy.optimize\n",
    "%matplotlib inline"
   ]
  },
  {
   "cell_type": "code",
   "execution_count": 4,
   "metadata": {
    "collapsed": false
   },
   "outputs": [],
   "source": [
    "def trainTitanic(lam, type=\"train\", rescale=True, useGradientCriterion=True, stepSize=0.01, maxFunctionCalls=10000,\n",
    "                 tol=1e-8, plotIter=True, printSummary=True):\n",
    "    lr = LogisticRegression.fromTitanic(type=type, rescale=rescale, rescaleMethod=\"interval\")\n",
    "    w_guess = np.zeros(12)\n",
    "    w_full = lr.computeDecisionBoundary(w_guess, lam, printSummary=printSummary, stepSize=stepSize, plotIter=plotIter,\n",
    "                                       useGradientCriterion=useGradientCriterion, maxFunctionCalls=maxFunctionCalls,\n",
    "                                       tol=tol)\n",
    "    \n",
    "#     print \"\"\n",
    "#     print \"w_full = \" + str(w_full)\n",
    "#     print \"\"\n",
    "\n",
    "    lr_test = LogisticRegression.fromTitanic(type=\"test\", rescale=rescale)\n",
    "    lr_val = LogisticRegression.fromTitanic(type=\"validate\", rescale=rescale)\n",
    "\n",
    "    if printSummary:\n",
    "    \n",
    "        print \"\"\n",
    "        print \"--Train--\"\n",
    "        cer_train,_ = lr.classificationErrorRate(w_full,verbose=True)\n",
    "        print \"------------\"\n",
    "        print \"\"\n",
    "\n",
    "        print \"\"\n",
    "        print \"--Test--\"\n",
    "        cer_test, _ = lr_test.classificationErrorRate(w_full,verbose=True)\n",
    "        print \"------------\"\n",
    "        print \"\"\n",
    "       \n",
    "        print \"\"\n",
    "        print \"--Validate--\"\n",
    "        cer_val, _ = lr_val.classificationErrorRate(w_full,verbose=True)\n",
    "        print \"------------\"\n",
    "        print \"\"\n",
    "        \n",
    "    else:\n",
    "        cer_train,_ = lr.classificationErrorRate(w_full,verbose=False)\n",
    "        cer_test, _ = lr_test.classificationErrorRate(w_full,verbose=False)\n",
    "        cer_val, _ = lr_val.classificationErrorRate(w_full,verbose=False)\n",
    "    \n",
    "    return np.array([cer_train, cer_test, cer_val])\n",
    "    "
   ]
  },
  {
   "cell_type": "code",
   "execution_count": 5,
   "metadata": {
    "collapsed": false
   },
   "outputs": [
    {
     "name": "stdout",
     "output_type": "stream",
     "text": [
      " \n",
      "--- Minimization Summary --- \n",
      "x_min is = [-0.99357443  0.65538628  0.47971214 -1.13509848  2.62077778 -1.13823999\n",
      " -0.43603691  0.66929257  0.41190811 -0.21222316  0.30728608 -0.09506298]\n",
      "f_min is = 87.3880256207\n",
      "achieved tolerance = 9.97986682183e-09\n",
      "numFunctionCalls = 6819\n",
      "---------------------------- \n",
      " \n",
      "--- Classification Summary ---\n",
      "w_full = [-0.99357443  0.65538628  0.47971214 -1.13509848  2.62077778 -1.13823999\n",
      " -0.43603691  0.66929257  0.41190811 -0.21222316  0.30728608 -0.09506298]\n",
      "w_full normalized = [-0.28615795  0.18875687  0.13816121 -0.32691809  0.75480647 -0.32782288\n",
      " -0.12558237  0.192762    0.11863307 -0.06112209  0.08850103 -0.02737895]\n",
      "norm of w_full = 3.47211887165\n",
      "lambda = 0.2\n",
      "number of entries missclassified = 34\n",
      "missclassification rate  = 0.17\n",
      "------------------\n",
      "\n"
     ]
    },
    {
     "data": {
      "image/png": "[encoded data removed]",
      "text/plain": [
       "<matplotlib.figure.Figure at 0x10ce810d0>"
      ]
     },
     "metadata": {},
     "output_type": "display_data"
    },
    {
     "name": "stdout",
     "output_type": "stream",
     "text": [
      "\n",
      "--Train--\n",
      "number of entries missclassified = 34\n",
      "missclassification rate  = 0.17\n",
      "------------\n",
      "\n",
      "\n",
      "--Test--\n",
      "number of entries missclassified = 45\n",
      "missclassification rate  = 0.238095238095\n",
      "------------\n",
      "\n",
      "\n",
      "--Validate--\n",
      "number of entries missclassified = 102\n",
      "missclassification rate  = 0.204\n",
      "------------\n",
      "\n",
      "(3,)\n"
     ]
    }
   ],
   "source": [
    "lam = .2\n",
    "a = trainTitanic(lam, printSummary=True, plotIter=True)\n",
    "print np.shape(a)"
   ]
  },
  {
   "cell_type": "code",
   "execution_count": 6,
   "metadata": {
    "collapsed": false
   },
   "outputs": [
    {
     "data": {
      "image/png": "[encoded data removed]",
      "text/plain": [
       "<matplotlib.figure.Figure at 0x11cacfd90>"
      ]
     },
     "metadata": {},
     "output_type": "display_data"
    },
    {
     "name": "stdout",
     "output_type": "stream",
     "text": [
      "[[ 0.17        0.21693122  0.206     ]\n",
      " [ 0.18        0.23809524  0.202     ]\n",
      " [ 0.165       0.24338624  0.206     ]\n",
      " [ 0.165       0.24867725  0.208     ]\n",
      " [ 0.17        0.24338624  0.204     ]\n",
      " [ 0.17        0.24338624  0.204     ]\n",
      " [ 0.17        0.24867725  0.206     ]\n",
      " [ 0.175       0.24867725  0.208     ]\n",
      " [ 0.17        0.24867725  0.206     ]\n",
      " [ 0.17        0.25396825  0.202     ]\n",
      " [ 0.175       0.25396825  0.198     ]\n",
      " [ 0.165       0.25925926  0.19      ]\n",
      " [ 0.165       0.24867725  0.19      ]\n",
      " [ 0.16        0.24338624  0.19      ]\n",
      " [ 0.16        0.24338624  0.186     ]\n",
      " [ 0.155       0.23280423  0.186     ]\n",
      " [ 0.155       0.23280423  0.186     ]\n",
      " [ 0.155       0.23280423  0.186     ]\n",
      " [ 0.155       0.23280423  0.186     ]\n",
      " [ 0.155       0.23280423  0.186     ]\n",
      " [ 0.15        0.23280423  0.186     ]\n",
      " [ 0.15        0.23280423  0.186     ]\n",
      " [ 0.15        0.23280423  0.186     ]\n",
      " [ 0.15        0.23280423  0.186     ]\n",
      " [ 0.15        0.23280423  0.186     ]\n",
      " [ 0.145       0.23280423  0.186     ]\n",
      " [ 0.14        0.23809524  0.188     ]\n",
      " [ 0.14        0.23809524  0.188     ]\n",
      " [ 0.145       0.23280423  0.192     ]\n",
      " [ 0.145       0.23280423  0.192     ]\n",
      " [ 0.145       0.23280423  0.192     ]\n",
      " [ 0.145       0.23280423  0.192     ]\n",
      " [ 0.145       0.23280423  0.192     ]\n",
      " [ 0.17        0.23809524  0.208     ]\n",
      " [ 0.17        0.24867725  0.208     ]\n",
      " [ 0.17        0.24867725  0.208     ]\n",
      " [ 0.17        0.24867725  0.208     ]\n",
      " [ 0.17        0.24867725  0.208     ]\n",
      " [ 0.17        0.24867725  0.208     ]\n",
      " [ 0.17        0.24867725  0.208     ]\n",
      " [ 0.17        0.24867725  0.208     ]\n",
      " [ 0.17        0.24867725  0.208     ]\n",
      " [ 0.165       0.24867725  0.208     ]\n",
      " [ 0.165       0.24867725  0.208     ]\n",
      " [ 0.165       0.24867725  0.206     ]\n",
      " [ 0.165       0.24867725  0.206     ]\n",
      " [ 0.165       0.24867725  0.206     ]\n",
      " [ 0.165       0.24867725  0.206     ]\n",
      " [ 0.165       0.24867725  0.206     ]\n",
      " [ 0.165       0.24867725  0.206     ]\n",
      " [ 0.165       0.24867725  0.206     ]\n",
      " [ 0.165       0.24867725  0.206     ]\n",
      " [ 0.165       0.24867725  0.206     ]\n",
      " [ 0.165       0.24867725  0.206     ]\n",
      " [ 0.165       0.24867725  0.206     ]\n",
      " [ 0.165       0.24867725  0.206     ]\n",
      " [ 0.165       0.24867725  0.204     ]\n",
      " [ 0.165       0.24867725  0.204     ]\n",
      " [ 0.165       0.24867725  0.204     ]\n",
      " [ 0.165       0.24867725  0.208     ]]\n"
     ]
    }
   ],
   "source": [
    "N = 60\n",
    "lambda_vals = np.linspace(0,8,N)\n",
    "cer = np.zeros((N,3))\n",
    "for idx, lam in enumerate(lambda_vals):\n",
    "    cer[idx,:] = trainTitanic(lam, printSummary=False, plotIter=False)\n",
    "\n",
    "plt.plot(lambda_vals, cer[:,0], color='r', label=\"train\")\n",
    "plt.plot(lambda_vals, cer[:,1], color='g', label=\"test\")\n",
    "plt.plot(lambda_vals, cer[:,2], color='b', label=\"val\")\n",
    "# plt.legend(loc='best')\n",
    "plt.legend()\n",
    "plt.xlabel('lambda')\n",
    "plt.ylabel(\"classification error rate\")\n",
    "plt.show()\n",
    "print cer"
   ]
  },
  {
   "cell_type": "code",
   "execution_count": 7,
   "metadata": {
    "collapsed": false
   },
   "outputs": [
    {
     "data": {
      "image/png": "[encoded data removed]",
      "text/plain": [
       "<matplotlib.figure.Figure at 0x11cb94a90>"
      ]
     },
     "metadata": {},
     "output_type": "display_data"
    },
    {
     "data": {
      "text/plain": [
       "array([ 0.375     ,  0.39153439,  0.382     ])"
      ]
     },
     "execution_count": 7,
     "metadata": {},
     "output_type": "execute_result"
    }
   ],
   "source": [
    "lam = 50\n",
    "trainTitanic(lam, printSummary=False, plotIter=True)"
   ]
  },
  {
   "cell_type": "code",
   "execution_count": 8,
   "metadata": {
    "collapsed": false
   },
   "outputs": [],
   "source": [
    "#lr.fromTitanic(type=\"test\")\n",
    "#print np.shape(lr.x)"
   ]
  },
  {
   "cell_type": "code",
   "execution_count": 9,
   "metadata": {
    "collapsed": false
   },
   "outputs": [
    {
     "name": "stdout",
     "output_type": "stream",
     "text": [
      " \n",
      "--- Minimization Summary --- \n",
      "x_min is = [-0.85484944  0.35836282  0.33523583 -0.69359864  1.64089677 -0.26719336\n",
      " -0.00429251  0.23077402  0.15791133 -0.25596015  0.22996793  0.02599222]\n",
      "f_min is = 101.053992266\n",
      "achieved tolerance = 9.99051535944e-09\n",
      "numFunctionCalls = 706\n",
      "---------------------------- \n",
      " \n",
      "--- Classification Summary ---\n",
      "w_full = [-0.85484944  0.35836282  0.33523583 -0.69359864  1.64089677 -0.26719336\n",
      " -0.00429251  0.23077402  0.15791133 -0.25596015  0.22996793  0.02599222]\n",
      "w_full normalized = [-0.40689241  0.17057402  0.15956601 -0.33014003  0.78103629 -0.12717906\n",
      " -0.00204316  0.10984413  0.07516285 -0.12183226  0.10946045  0.01237181]\n",
      "norm of w_full = 2.10092256476\n",
      "lambda = 2.5\n",
      "number of entries missclassified = 31\n",
      "missclassification rate  = 0.155\n",
      "------------------\n",
      "\n"
     ]
    },
    {
     "data": {
      "image/png": "[encoded data removed]",
      "text/plain": [
       "<matplotlib.figure.Figure at 0x11cb9d810>"
      ]
     },
     "metadata": {},
     "output_type": "display_data"
    },
    {
     "name": "stdout",
     "output_type": "stream",
     "text": [
      "\n",
      "--Train--\n",
      "number of entries missclassified = 31\n",
      "missclassification rate  = 0.155\n",
      "------------\n",
      "\n",
      "\n",
      "--Test--\n",
      "number of entries missclassified = 44\n",
      "missclassification rate  = 0.232804232804\n",
      "------------\n",
      "\n",
      "\n",
      "--Validate--\n",
      "number of entries missclassified = 93\n",
      "missclassification rate  = 0.186\n",
      "------------\n",
      "\n"
     ]
    },
    {
     "data": {
      "text/plain": [
       "array([ 0.155     ,  0.23280423,  0.186     ])"
      ]
     },
     "execution_count": 9,
     "metadata": {},
     "output_type": "execute_result"
    }
   ],
   "source": [
    "lam = 2.5\n",
    "trainTitanic(lam)"
   ]
  },
  {
   "cell_type": "code",
   "execution_count": 35,
   "metadata": {
    "collapsed": false
   },
   "outputs": [],
   "source": [
    "def trainTitanicSVM(type=\"train\", rescale=True, printSummary=True, kernel=\"linear\", C=1.0, bandwidth=1.0):\n",
    "    svm = SVM.fromTitanic(type=type, rescale=rescale, rescaleMethod=\"interval\", kernel=kernel, C=C, bandwidth=bandwidth)\n",
    "    svm.computeSolution()\n",
    "\n",
    "    if printSummary:\n",
    "    \n",
    "        print \"\"\n",
    "        print \"--Train--\"\n",
    "        cer_train,_ = svm.CER_type(type=\"train\", rescale=rescale, verbose=True, rescaleMethod=\"interval\")\n",
    "        print \"------------\"\n",
    "        print \"\"\n",
    "\n",
    "        print \"\"\n",
    "        print \"--Test--\"\n",
    "        cer_test, _ = svm.CER_type(type=\"test\", rescale=rescale, verbose=True, rescaleMethod=\"interval\")\n",
    "        print \"------------\"\n",
    "        print \"\"\n",
    "       \n",
    "        print \"\"\n",
    "        print \"--Validate--\"\n",
    "        cer_val, _ = svm.CER_type(type=\"validate\", rescale=rescale, verbose=True, rescaleMethod=\"interval\")\n",
    "        print \"------------\"\n",
    "        print \"\"\n",
    "        \n",
    "    else:\n",
    "        cer_train,_ = svm.CER_type(type=\"train\", rescale=rescale, verbose=False, rescaleMethod=\"interval\")\n",
    "        cer_test, _ = svm.CER_type(type=\"test\", rescale=rescale, verbose=False, rescaleMethod=\"interval\")\n",
    "        cer_val, _ = svm.CER_type(type=\"validate\", rescale=rescale, verbose=False, rescaleMethod=\"interval\")\n",
    "    \n",
    "    return np.array([cer_train, cer_test, cer_val])\n",
    "    "
   ]
  },
  {
   "cell_type": "code",
   "execution_count": 36,
   "metadata": {
    "collapsed": false
   },
   "outputs": [
    {
     "name": "stdout",
     "output_type": "stream",
     "text": [
      "     pcost       dcost       gap    pres   dres\n",
      " 0: -1.0878e+02 -5.0650e+02  2e+03  3e+00  1e-11\n",
      " 1: -7.0384e+01 -3.2983e+02  3e+02  1e-01  1e-11\n",
      " 2: -7.3490e+01 -1.1606e+02  5e+01  2e-02  7e-12\n",
      " 3: -7.8658e+01 -9.2495e+01  1e+01  5e-03  7e-12\n",
      " 4: -7.9372e+01 -8.3227e+01  4e+00  2e-04  1e-11\n",
      " 5: -7.9980e+01 -8.0179e+01  2e-01  7e-06  9e-12\n",
      " 6: -8.0000e+01 -8.0002e+01  2e-03  8e-08  2e-11\n",
      " 7: -8.0000e+01 -8.0000e+01  2e-05  8e-10  8e-12\n",
      "Optimal solution found.\n",
      "\n",
      "--Train--\n",
      "number of entries missclassified = 39\n",
      "missclassification rate  = 0.195\n",
      "------------\n",
      "\n",
      "\n",
      "--Test--\n",
      "number of entries missclassified = 46\n",
      "missclassification rate  = 0.23\n",
      "------------\n",
      "\n",
      "\n",
      "--Validate--\n",
      "number of entries missclassified = 105\n",
      "missclassification rate  = 0.525\n",
      "------------\n",
      "\n"
     ]
    }
   ],
   "source": [
    "a = trainTitanicSVM(type=\"train\", rescale=False)"
   ]
  },
  {
   "cell_type": "code",
   "execution_count": 42,
   "metadata": {
    "collapsed": false
   },
   "outputs": [
    {
     "name": "stdout",
     "output_type": "stream",
     "text": [
      "     pcost       dcost       gap    pres   dres\n",
      " 0:  3.2665e+04 -5.6506e+05  6e+05  6e-14  6e-14\n",
      " 1:  8.6812e+03 -7.0588e+04  8e+04  1e-13  5e-14\n",
      " 2: -3.7930e+02 -1.7357e+04  2e+04  4e-13  4e-14\n",
      " 3: -2.9643e+03 -7.2684e+03  4e+03  1e-13  4e-14\n",
      " 4: -3.6764e+03 -5.6248e+03  2e+03  2e-14  4e-14\n",
      " 5: -3.9199e+03 -4.6239e+03  7e+02  1e-13  5e-14\n",
      " 6: -4.0246e+03 -4.2274e+03  2e+02  2e-13  5e-14\n",
      " 7: -4.0634e+03 -4.0953e+03  3e+01  2e-13  5e-14\n",
      " 8: -4.0700e+03 -4.0765e+03  6e+00  6e-14  4e-14\n",
      " 9: -4.0717e+03 -4.0721e+03  4e-01  1e-13  6e-14\n",
      "10: -4.0718e+03 -4.0718e+03  1e-02  3e-14  6e-14\n",
      "11: -4.0718e+03 -4.0718e+03  5e-04  1e-13  6e-14\n",
      "Optimal solution found.\n",
      "\n",
      "--Train--\n",
      "number of entries missclassified = 9\n",
      "missclassification rate  = 0.045\n",
      "------------\n",
      "\n",
      "\n",
      "--Test--\n",
      "number of entries missclassified = 58\n",
      "missclassification rate  = 0.29\n",
      "------------\n",
      "\n",
      "\n",
      "--Validate--\n",
      "number of entries missclassified = 136\n",
      "missclassification rate  = 0.68\n",
      "------------\n",
      "\n"
     ]
    }
   ],
   "source": [
    "a = trainTitanicSVM(type=\"train\", rescale=False, kernel=\"Gaussian\", C=100, bandwidth=100)"
   ]
  },
  {
   "cell_type": "code",
   "execution_count": null,
   "metadata": {
    "collapsed": true
   },
   "outputs": [],
   "source": []
  }
 ],
 "metadata": {
  "kernelspec": {
   "display_name": "Python 2",
   "language": "python",
   "name": "python2"
  },
  "language_info": {
   "codemirror_mode": {
    "name": "ipython",
    "version": 2
   },
   "file_extension": ".py",
   "mimetype": "text/x-python",
   "name": "python",
   "nbconvert_exporter": "python",
   "pygments_lexer": "ipython2",
   "version": "2.7.10"
  }
 },
 "nbformat": 4,
 "nbformat_minor": 0
}
