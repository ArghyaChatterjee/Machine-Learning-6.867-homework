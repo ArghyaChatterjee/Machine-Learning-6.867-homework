{
 "cells": [
  {
   "cell_type": "code",
   "execution_count": 1,
   "metadata": {
    "collapsed": false
   },
   "outputs": [],
   "source": [
    "import numpy as np\n",
    "from neural_net import NeuralNet\n",
    "%load_ext autoreload\n",
    "%autoreload 2\n",
    "import scipy.io\n",
    "import matplotlib.pyplot as plt\n",
    "%matplotlib inline"
   ]
  },
  {
   "cell_type": "code",
   "execution_count": null,
   "metadata": {
    "collapsed": false
   },
   "outputs": [],
   "source": [
    "filename = \"mnist\"\n",
    "nn = NeuralNet.fromMAT(filename, varname = 'tr', type=\"train\", lam=0.0, M=300)\n",
    "print np.shape(nn.T)\n",
    "stepSize=0.001\n",
    "nn.train(stepSize=stepSize, maxFunctionCalls=3000, varname='tr')"
   ]
  },
  {
   "cell_type": "code",
   "execution_count": null,
   "metadata": {
    "collapsed": false
   },
   "outputs": [],
   "source": [
    "nn.test(varname='te')\n",
    "nn.validate(varname='va')"
   ]
  },
  {
   "cell_type": "code",
   "execution_count": null,
   "metadata": {
    "collapsed": false
   },
   "outputs": [],
   "source": [
    "scale=0.5\n",
    "w_initial = [scale*(np.random.random_sample(np.shape(nn.W1)) - 0.5 ), scale*(np.random.random_sample(np.shape(nn.W2)) - 0.5)]\n",
    "\n",
    "nn.forwardProp(nn.X, w_initial)"
   ]
  },
  {
   "cell_type": "code",
   "execution_count": null,
   "metadata": {
    "collapsed": false
   },
   "outputs": [],
   "source": [
    "print nn.a_hidden[:,1]\n",
    "print nn.a_hidden[:,2]\n",
    "print nn.z[:,1]\n",
    "print nn.z[:,2]\n",
    "\n",
    "print \"y is\"\n",
    "print nn.y[:,1]\n",
    "print nn.y[:,2]"
   ]
  },
  {
   "cell_type": "code",
   "execution_count": null,
   "metadata": {
    "collapsed": false
   },
   "outputs": [],
   "source": [
    "nn.test(varname='te')"
   ]
  },
  {
   "cell_type": "code",
   "execution_count": null,
   "metadata": {
    "collapsed": false
   },
   "outputs": [],
   "source": [
    "nn.validate(varname='va')"
   ]
  },
  {
   "cell_type": "code",
   "execution_count": 3,
   "metadata": {
    "collapsed": false
   },
   "outputs": [],
   "source": [
    "filename = \"mnist\"\n",
    "nn_SGD = NeuralNet.fromMAT(filename, varname = 'tr', type=\"train\", lam=0, M=50)\n"
   ]
  },
  {
   "cell_type": "code",
   "execution_count": 9,
   "metadata": {
    "collapsed": false
   },
   "outputs": [
    {
     "name": "stdout",
     "output_type": "stream",
     "text": [
      "Actual data\n",
      "can only plot data if x is two dimensional\n",
      "It took 6.48498535156e-05 seconds to plot original data.\n",
      "using STOCHASTIC gradient descent\n",
      "WARNING: hit maximum number of function calls\n",
      " \n",
      "--- Minimization Summary --- \n",
      "f_min is = 225.298705295\n",
      "achieved tolerance = 0.00107868667976\n",
      "numIterations = 200000\n",
      "---------------------------- \n",
      " \n",
      "It took 78.9468979836 seconds to train.\n",
      "Neural net classifier\n",
      "1000\n"
     ]
    },
    {
     "data": {
      "image/png": "[encoded data removed]",
      "text/plain": [
       "<matplotlib.figure.Figure at 0x7fd42e464d50>"
      ]
     },
     "metadata": {},
     "output_type": "display_data"
    },
    {
     "name": "stdout",
     "output_type": "stream",
     "text": [
      "It took 0.160943984985 seconds to plot classification predictions.\n",
      "1000\n",
      "number of entries missclassified = 34\n",
      "missclassification rate  = 0.034\n",
      "### TEST DATASET ###\n",
      "500\n",
      "number of entries missclassified = 35\n",
      "missclassification rate  = 0.07\n",
      "It took 0.0242331027985 seconds to test.\n",
      "### VALIDATION DATASET ###\n",
      "500\n",
      "number of entries missclassified = 37\n",
      "missclassification rate  = 0.074\n",
      "It took 0.0251400470734 seconds to validate.\n"
     ]
    }
   ],
   "source": [
    "stepSize = nn_SGD.N*20\n",
    "nn_SGD.train(stepSize=stepSize, maxFunctionCalls=200000, varname='tr', useSGD=True, storeIterValues=False, tol=1e-6\n",
    "            , lam=2, verbose=True)\n",
    "nn_SGD.test(varname='te', verbose=False)\n",
    "nn_SGD.validate(varname='va', verbose=False)"
   ]
  },
  {
   "cell_type": "code",
   "execution_count": null,
   "metadata": {
    "collapsed": false
   },
   "outputs": [
    {
     "name": "stdout",
     "output_type": "stream",
     "text": [
      "Actual data\n",
      "can only plot data if x is two dimensional\n",
      "It took 6.8187713623e-05 seconds to plot original data.\n",
      "using STOCHASTIC gradient descent\n",
      "WARNING: hit maximum number of function calls\n",
      " \n",
      "--- Minimization Summary --- \n",
      "f_min is = 1075.64914592\n",
      "achieved tolerance = 0.00119634404898\n",
      "numIterations = 200000\n",
      "---------------------------- \n",
      " \n",
      "It took 56.2364599705 seconds to train.\n",
      "Neural net classifier\n",
      "1000\n"
     ]
    },
    {
     "data": {
      "image/png": "[encoded data removed]",
      "text/plain": [
       "<matplotlib.figure.Figure at 0x7fd42e8da050>"
      ]
     },
     "metadata": {},
     "output_type": "display_data"
    },
    {
     "name": "stdout",
     "output_type": "stream",
     "text": [
      "It took 0.153148174286 seconds to plot classification predictions.\n",
      "1000\n",
      "number of entries missclassified = 247\n",
      "missclassification rate  = 0.247\n",
      "### TEST DATASET ###\n",
      "500\n",
      "number of entries missclassified = 124\n",
      "missclassification rate  = 0.248\n",
      "It took 0.0203070640564 seconds to test.\n",
      "### VALIDATION DATASET ###\n",
      "500\n",
      "number of entries missclassified = 117\n",
      "missclassification rate  = 0.234\n",
      "It took 0.0207238197327 seconds to validate.\n",
      "Actual data\n",
      "can only plot data if x is two dimensional\n",
      "It took 6.29425048828e-05 seconds to plot original data.\n",
      "using STOCHASTIC gradient descent\n",
      "WARNING: hit maximum number of function calls\n",
      " \n",
      "--- Minimization Summary --- \n",
      "f_min is = 931.748467874\n",
      "achieved tolerance = 0.00137007415287\n",
      "numIterations = 220000\n",
      "---------------------------- \n",
      " \n",
      "It took 74.4210910797 seconds to train.\n",
      "Neural net classifier\n",
      "1000\n"
     ]
    },
    {
     "data": {
      "image/png": "[encoded data removed]",
      "text/plain": [
       "<matplotlib.figure.Figure at 0x7fd42e92f6d0>"
      ]
     },
     "metadata": {},
     "output_type": "display_data"
    },
    {
     "name": "stdout",
     "output_type": "stream",
     "text": [
      "It took 0.152065038681 seconds to plot classification predictions.\n",
      "1000\n",
      "number of entries missclassified = 186\n",
      "missclassification rate  = 0.186\n",
      "### TEST DATASET ###\n",
      "500\n",
      "number of entries missclassified = 77\n",
      "missclassification rate  = 0.154\n",
      "It took 0.0219700336456 seconds to test.\n",
      "### VALIDATION DATASET ###\n",
      "500\n",
      "number of entries missclassified = 65\n",
      "missclassification rate  = 0.13\n",
      "It took 0.0227088928223 seconds to validate.\n",
      "Actual data\n",
      "can only plot data if x is two dimensional\n",
      "It took 5.31673431396e-05 seconds to plot original data.\n",
      "using STOCHASTIC gradient descent\n",
      "WARNING: hit maximum number of function calls\n",
      " \n",
      "--- Minimization Summary --- \n",
      "f_min is = 935.153641597\n",
      "achieved tolerance = 0.0013822281581\n",
      "numIterations = 240000\n",
      "---------------------------- \n",
      " \n",
      "It took 93.8291780949 seconds to train.\n",
      "Neural net classifier\n",
      "1000\n"
     ]
    },
    {
     "data": {
      "image/png": "[encoded data removed]",
      "text/plain": [
       "<matplotlib.figure.Figure at 0x7fd44d454950>"
      ]
     },
     "metadata": {},
     "output_type": "display_data"
    },
    {
     "name": "stdout",
     "output_type": "stream",
     "text": [
      "It took 0.163227796555 seconds to plot classification predictions.\n",
      "1000\n",
      "number of entries missclassified = 202\n",
      "missclassification rate  = 0.202\n",
      "### TEST DATASET ###\n",
      "500\n",
      "number of entries missclassified = 75\n",
      "missclassification rate  = 0.15\n",
      "It took 0.0250480175018 seconds to test.\n",
      "### VALIDATION DATASET ###\n",
      "500\n",
      "number of entries missclassified = 76\n",
      "missclassification rate  = 0.152\n",
      "It took 0.0248730182648 seconds to validate.\n",
      "Actual data"
     ]
    }
   ],
   "source": [
    "lamGrid = np.array([2.0])\n",
    "Trials = 2\n",
    "MGrid = np.array([30, 40, 50, 60, 70, 80])\n",
    "mMin = MGrid[0]\n",
    "mMax = MGrid[-1]\n",
    "trainCER = 0.0*MGrid\n",
    "testCER = 0.0*MGrid\n",
    "validateCER = 0.0*MGrid\n",
    "maxFunctionCalls=200000\n",
    "maxFunctionCallsBig=300000\n",
    "trainTime = 0.0*MGrid\n",
    "\n",
    "\n",
    "for i, m in enumerate(MGrid):\n",
    "    for lam in lamGrid:            \n",
    "        alpha = (m - mMin)*1.0/(mMax - mMin)\n",
    "        mfc = maxFunctionCalls*(1-alpha) + alpha*maxFunctionCallsBig\n",
    "        mfc = np.ceil(mfc)\n",
    "        nn_SGD = NeuralNet.fromMAT(filename, varname = 'tr', type=\"train\", lam=lam, M=m)\n",
    "        stepSize = nn_SGD.N*20\n",
    "        nn_SGD.train(stepSize=stepSize, maxFunctionCalls=mfc, varname='tr', useSGD=True, storeIterValues=False,\n",
    "                tol=1e-6, verbose=True)\n",
    "        trainTime[i] = nn_SGD.trainingTime\n",
    "        TrainCER[i] = nn_SGD.missclassifiedRate\n",
    "        nn_SGD.test(varname='te', verbose=False)\n",
    "        testCER[i] = nn_SGD.missclassifiedRate\n",
    "        \n",
    "        nn_SGD.validate(varname='va', verbose=False)\n",
    "        validateCER[i] = nn_SGD.missclassifiedRate\n"
   ]
  },
  {
   "cell_type": "code",
   "execution_count": 27,
   "metadata": {
    "collapsed": false
   },
   "outputs": [
    {
     "name": "stdout",
     "output_type": "stream",
     "text": [
      "Training CER vs. M (number of hidden nodes)\n",
      "Test CER vs. M (number of hidden nodes)\n",
      "Validation CER vs. M (number of hidden nodes)\n"
     ]
    },
    {
     "data": {
      "image/png": "[encoded data removed]",
      "text/plain": [
       "<matplotlib.figure.Figure at 0x7fd42e991850>"
      ]
     },
     "metadata": {},
     "output_type": "display_data"
    },
    {
     "name": "stdout",
     "output_type": "stream",
     "text": [
      "Training time vs. M (number of hidden nodes)\n"
     ]
    },
    {
     "data": {
      "image/png": "[encoded data removed]",
      "text/plain": [
       "<matplotlib.figure.Figure at 0x7fd42e9f7250>"
      ]
     },
     "metadata": {},
     "output_type": "display_data"
    }
   ],
   "source": [
    "print \"Training CER vs. M (number of hidden nodes)\"    \n",
    "plt.plot(MGrid, trainCER, 'red', label = 'train')\n",
    "\n",
    "print \"Test CER vs. M (number of hidden nodes)\"    \n",
    "plt.plot(MGrid, testCER, 'green', label=' test')\n",
    "\n",
    "print \"Validation CER vs. M (number of hidden nodes)\"    \n",
    "plt.plot(MGrid, validateCER, 'blue', label=\" val\")\n",
    "\n",
    "plt.xlabel(' # hidden nodes')\n",
    "plt.ylabel('Classification Error Rate')\n",
    "plt.legend(loc='best')\n",
    "plt.title('Stochastic Gradient Descent')\n",
    "plt.show()\n",
    "\n",
    "\n",
    "print \"Training time vs. M (number of hidden nodes)\"    \n",
    "plt.xlabel(' # hidden nodes')\n",
    "plt.ylabel('Training Time')\n",
    "plt.title('Stochastic Gradient Descent')\n",
    "plt.plot(MGrid, trainTime, 'black')\n",
    "plt.show()"
   ]
  },
  {
   "cell_type": "code",
   "execution_count": 20,
   "metadata": {
    "collapsed": false
   },
   "outputs": [
    {
     "name": "stdout",
     "output_type": "stream",
     "text": [
      "3\n"
     ]
    }
   ],
   "source": [
    "a = np.array([1,2,3])\n",
    "print a[-1]"
   ]
  },
  {
   "cell_type": "code",
   "execution_count": null,
   "metadata": {
    "collapsed": true
   },
   "outputs": [],
   "source": []
  }
 ],
 "metadata": {
  "kernelspec": {
   "display_name": "Python 2",
   "language": "python",
   "name": "python2"
  },
  "language_info": {
   "codemirror_mode": {
    "name": "ipython",
    "version": 2
   },
   "file_extension": ".py",
   "mimetype": "text/x-python",
   "name": "python",
   "nbconvert_exporter": "python",
   "pygments_lexer": "ipython2",
   "version": "2.7.6"
  }
 },
 "nbformat": 4,
 "nbformat_minor": 0
}
