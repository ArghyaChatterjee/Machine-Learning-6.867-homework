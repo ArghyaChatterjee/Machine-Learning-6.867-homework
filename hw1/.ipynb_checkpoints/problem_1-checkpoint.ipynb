{
 "cells": [
  {
   "cell_type": "markdown",
   "metadata": {},
   "source": [
    "# Testing Environment for Homework 1"
   ]
  },
  {
   "cell_type": "code",
   "execution_count": 1,
   "metadata": {
    "collapsed": false
   },
   "outputs": [],
   "source": [
    "# Global setup\n",
    "import numpy as np\n",
    "import matplotlib.pyplot as plt\n",
    "% matplotlib inline"
   ]
  },
  {
   "cell_type": "markdown",
   "metadata": {},
   "source": [
    "## 1. Implement Gradient Descent"
   ]
  },
  {
   "cell_type": "markdown",
   "metadata": {},
   "source": [
    "1) Implement a basic gradient descent procedure to minimize scalar functions of a vector argument. Write it generically, so that you can easily specify the objective function and the function to compute the gradient. You should be able to specify the initial guess, the step size and the convergence criterion (a threshold such that the algorithm terminates when the difference in objective function value on two successive steps is below this threshold)."
   ]
  },
  {
   "cell_type": "code",
   "execution_count": 2,
   "metadata": {
    "collapsed": false
   },
   "outputs": [
    {
     "name": "stdout",
     "output_type": "stream",
     "text": [
      " \n",
      "--- Minimization Summary --- \n",
      "x_min is = [  4.91528181e-07   4.91528181e-07]\n",
      "f_min is = 9.83056362965e-07\n",
      "achieved tolerance = 9.83056362965e-07\n",
      "numFunctionCalls = 720\n",
      "---------------------------- \n",
      " \n",
      "(array([  4.91528181e-07,   4.91528181e-07]), 4.8319990638341978e-13, 720, 1e-06)\n"
     ]
    }
   ],
   "source": [
    "from gradient_descent import GradientDescent, quad, quadGrad\n",
    "\n",
    "gd = GradientDescent(quad, quadGrad)\n",
    "\n",
    "gd.stepSize = 1e-2\n",
    "gd.tol = 1e-6\n",
    "x_0 = np.array([1.0, 1.0])\n",
    "print gd.computeMin(x_0,useGradientCriterion=True)\n"
   ]
  },
  {
   "cell_type": "code",
   "execution_count": 3,
   "metadata": {
    "collapsed": false
   },
   "outputs": [
    {
     "name": "stdout",
     "output_type": "stream",
     "text": [
      " \n",
      "--- Minimization Summary --- \n",
      "x_min is = [ 0.03425742  0.03425742]\n",
      "f_min is = -9.67792632187e-05\n",
      "achieved tolerance = -9.67792632187e-05\n",
      "numFunctionCalls = 168\n",
      "---------------------------- \n",
      " \n",
      "(array([ 0.03425742,  0.03425742]), 0.0023471415251319705, 168, 0.0001)\n"
     ]
    }
   ],
   "source": [
    "x_0 = np.array([1.0, 1.0])\n",
    "print GradientDescent.minimize(quad, x_0, grad=quadGrad)"
   ]
  },
  {
   "cell_type": "code",
   "execution_count": 4,
   "metadata": {
    "collapsed": false
   },
   "outputs": [
    {
     "name": "stdout",
     "output_type": "stream",
     "text": [
      " \n",
      "--- Minimization Summary --- \n",
      "x_min is = [  4.91528181e-07   4.91528181e-07]\n",
      "f_min is = 9.83056362965e-07\n",
      "achieved tolerance = 9.83056362965e-07\n",
      "numFunctionCalls = 720\n",
      "---------------------------- \n",
      " \n"
     ]
    },
    {
     "data": {
      "image/png": "[encoded data removed]",
      "text/plain": [
       "<matplotlib.figure.Figure at 0x10e343a50>"
      ]
     },
     "metadata": {},
     "output_type": "display_data"
    }
   ],
   "source": [
    "gd = GradientDescent(quad, quadGrad)\n",
    "gd.tol = 1e-6\n",
    "\n",
    "gd.computeMin(x_0, useGradientCriterion=True, storeIterValues=True)\n",
    "gd.plotIterValues()\n",
    "\n"
   ]
  },
  {
   "cell_type": "markdown",
   "metadata": {},
   "source": [
    "##### Testing GradientDescent class\n",
    "\n",
    "Plot default function stored as instance variable"
   ]
  },
  {
   "cell_type": "code",
   "execution_count": 5,
   "metadata": {
    "collapsed": false
   },
   "outputs": [
    {
     "name": "stdout",
     "output_type": "stream",
     "text": [
      "<function quad at 0x11956cc08>\n",
      "<function quadGrad at 0x11957f0c8>\n",
      "4\n",
      "2\n",
      "(21,)\n",
      "(21,)\n",
      "Function in blue, derivative in red\n"
     ]
    },
    {
     "data": {
      "image/png": "[encoded data removed]",
      "text/plain": [
       "<matplotlib.figure.Figure at 0x10e343c50>"
      ]
     },
     "metadata": {},
     "output_type": "display_data"
    }
   ],
   "source": [
    "gd = GradientDescent(quad, quadGrad)\n",
    "\n",
    "# Test functions are there\n",
    "print gd.f\n",
    "print gd.grad\n",
    "\n",
    "# Test values for functions\n",
    "print gd.f(2)\n",
    "print gd.grad(1)\n",
    "\n",
    "# Plot functions and overlay gradient\n",
    "xaxis = np.linspace(-10,10,21)\n",
    "yaxis_f = np.linspace(0,0,21)\n",
    "yaxis_grad = np.linspace(0,0,21)\n",
    "\n",
    "# Wish I could vectorize but this does not work\n",
    "# yaxis_f = gd.f(xaxis)\n",
    "# yaxis_grad = gd.grad(xaxis)\n",
    "\n",
    "for i in range(len(xaxis)):\n",
    "    yaxis_f[i] = gd.f(xaxis[i])\n",
    "    yaxis_grad[i] = gd.grad(xaxis[i])\n",
    "    \n",
    "print xaxis.shape\n",
    "print yaxis_f.shape\n",
    "\n",
    "print 'Function in blue, derivative in red'\n",
    "plt.plot(xaxis,yaxis_f, color ='blue')\n",
    "plt.plot(xaxis,yaxis_grad, color='red')\n",
    "plt.show()\n"
   ]
  },
  {
   "cell_type": "markdown",
   "metadata": {
    "collapsed": false
   },
   "source": [
    "2) Test your gradient descent procedure on some functions whose optimal value you know, e.g. a quadratic bowl or (the negative of) a Gaussian probability density function. Make sure that you try functions of more than one variable and that you try at least one convex function and one very non-convex function with multiple minima. Discuss the effect of the choice of starting guess, the step size, and the convergence criterion on the resulting solution.\n"
   ]
  },
  {
   "cell_type": "markdown",
   "metadata": {
    "collapsed": true
   },
   "source": [
    "Try one convex function, such as the negative of a Gaussian probability function."
   ]
  },
  {
   "cell_type": "code",
   "execution_count": 6,
   "metadata": {
    "collapsed": false
   },
   "outputs": [],
   "source": [
    "def gaussian(x, mu, sig):\n",
    "    return np.exp(-np.power(x - mu, 2.) / (2 * np.power(sig, 2.)))\n",
    "\n",
    "gd = GradientDescent(gaussian)\n",
    "\n",
    "\n"
   ]
  },
  {
   "cell_type": "code",
   "execution_count": 18,
   "metadata": {
    "collapsed": false
   },
   "outputs": [
    {
     "data": {
      "image/png": "[encoded data removed]",
      "text/plain": [
       "<matplotlib.figure.Figure at 0x11f12eb10>"
      ]
     },
     "metadata": {},
     "output_type": "display_data"
    }
   ],
   "source": [
    "from matplotlib import pyplot as mp\n",
    "import numpy as np\n",
    "\n",
    "def gaussian(x, mu, sig):\n",
    "    return np.exp(-np.power(x - mu, 2.) / (2 * np.power(sig, 2.)))\n",
    "\n",
    "for mu, sig in [(-1, 1), (0, 2), (2, 3)]:\n",
    "    mp.plot(gaussian(np.linspace(-3, 3, 120), mu, sig))\n",
    "\n",
    "mp.show()"
   ]
  },
  {
   "cell_type": "code",
   "execution_count": null,
   "metadata": {
    "collapsed": true
   },
   "outputs": [],
   "source": []
  }
 ],
 "metadata": {
  "kernelspec": {
   "display_name": "Python 2",
   "language": "python",
   "name": "python2"
  },
  "language_info": {
   "codemirror_mode": {
    "name": "ipython",
    "version": 2
   },
   "file_extension": ".py",
   "mimetype": "text/x-python",
   "name": "python",
   "nbconvert_exporter": "python",
   "pygments_lexer": "ipython2",
   "version": "2.7.10"
  }
 },
 "nbformat": 4,
 "nbformat_minor": 0
}
