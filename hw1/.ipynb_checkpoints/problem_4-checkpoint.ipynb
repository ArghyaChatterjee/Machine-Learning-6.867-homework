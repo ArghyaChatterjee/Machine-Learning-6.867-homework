{
 "cells": [
  {
   "cell_type": "code",
   "execution_count": 3,
   "metadata": {
    "collapsed": true
   },
   "outputs": [],
   "source": [
    "import numpy as np\n",
    "import matplotlib.pyplot as plt\n",
    "import scipy.optimize as opt\n",
    "import os\n",
    "from linear_regression import LinearRegression\n",
    "from gradient_descent import GradientDescent, quad, quadGrad\n",
    "%matplotlib inline"
   ]
  },
  {
   "cell_type": "markdown",
   "metadata": {},
   "source": [
    "##4.1"
   ]
  },
  {
   "cell_type": "code",
   "execution_count": 24,
   "metadata": {
    "collapsed": false
   },
   "outputs": [
    {
     "name": "stdout",
     "output_type": "stream",
     "text": [
      " \n",
      "-------------\n",
      "M = 0\n",
      "argmin lambda = 10.0\n",
      "reg. SAE_train = 18.2859136078\n",
      "reg. SAE_val = 13.8005613879\n",
      "reg. SAE_test = 18.8849417276\n",
      "----------------\n",
      " \n",
      " \n",
      "-------------\n",
      "M = 1\n",
      "argmin lambda = 0.0\n",
      "reg. SAE_train = 6.29138628172\n",
      "reg. SAE_val = 3.13794139109\n",
      "reg. SAE_test = 3.70944731458\n",
      "----------------\n",
      " \n",
      " \n",
      "-------------\n",
      "M = 2\n",
      "argmin lambda = 0.0502512562814\n",
      "reg. SAE_train = 6.59182150266\n",
      "reg. SAE_val = 3.19366125113\n",
      "reg. SAE_test = 4.10270495029\n",
      "----------------\n",
      " \n",
      " \n",
      "-------------\n",
      "M = 3\n",
      "argmin lambda = 6.08040201005\n",
      "reg. SAE_train = 12.8118898284\n",
      "reg. SAE_val = 6.81863263276\n",
      "reg. SAE_test = 9.13495655983\n",
      "----------------\n",
      " \n",
      " \n",
      "-------------\n",
      "M = 4\n",
      "argmin lambda = 3.56783919598\n",
      "reg. SAE_train = 11.5075789393\n",
      "reg. SAE_val = 6.59912544421\n",
      "reg. SAE_test = 8.26757416885\n",
      "----------------\n",
      " \n",
      " \n",
      "-------------\n",
      "M = 5\n",
      "argmin lambda = 8.74371859296\n",
      "reg. SAE_train = 12.9959479626\n",
      "reg. SAE_val = 6.98498838075\n",
      "reg. SAE_test = 13.3460807503\n",
      "----------------\n",
      " \n"
     ]
    }
   ],
   "source": [
    "def plot(lr,w, plot_sin=True, plot_test=True, plot_validate=True):\n",
    "    # plot sin(2*phi*x) in green\n",
    "    x_min = np.amin(lr.x)\n",
    "    x_max = np.amax(lr.x)\n",
    "    x = np.linspace(-3,3,1000)\n",
    "    M = lr.numFeatures - 1\n",
    "    \n",
    "    lr_temp = LinearRegression(x,x,lr.numFeatures-1)\n",
    "    reg_prediction = np.dot(lr_temp.phi,w)\n",
    "    \n",
    "    lr_validate = LinearRegression.fromFile(validate_filename, M)\n",
    "    lr_test = LinearRegression.fromFile(test_filename, M)\n",
    "    \n",
    "    plt.plot(x, reg_prediction, color='r')\n",
    "    \n",
    "    # the training set is plotted in blue\n",
    "    plt.scatter(lr.x, lr.y, color='r', marker='o',facecolors='none')\n",
    "    \n",
    "    # test set plotted in green\n",
    "    if plot_test:\n",
    "        plt.scatter(lr_test.x, lr_test.y, color='g', marker='o',facecolors='none')\n",
    "        \n",
    "    # validation set plotted in orange\n",
    "    if plot_test:\n",
    "        plt.scatter(lr_validate.x, lr_validate.y, color='b', marker='o',facecolors='none')\n",
    "              \n",
    "    plt.show()\n",
    "\n",
    "def gradDescentSAE(lr, verbose=False):\n",
    "    w_initial = 1.0*lr.reg()\n",
    "    \n",
    "    res = opt.minimize(lr.SAEwReg, w_initial)\n",
    "    \n",
    "    if verbose:\n",
    "        print \" \"\n",
    "        print \"--- Scipy Minimization Summary --- \"\n",
    "        print \"x_min is = \" + str(res.x)\n",
    "        print \"f_min is = \" + str(res.fun)\n",
    "        print \"numFunctionCalls = \" + str(res.nfev)\n",
    "    #     print \"numIterations = \" + str(res.nit)\n",
    "        print \"---------------------------- \"\n",
    "        print \" \"\n",
    "        plot(lr,res.x)\n",
    "    \n",
    "    return (lr, res.x)\n",
    "\n",
    "\n",
    "def computeLAD(M, lam, train, test, validate, verbose=True):\n",
    "    lr_train = LinearRegression.fromFile(train, M)\n",
    "    lr_validate = LinearRegression.fromFile(validate, M)\n",
    "    lr_test = LinearRegression.fromFile(test, M)\n",
    "    \n",
    "    lr_train.lam = lam\n",
    "    lr_validate.lam = lam\n",
    "    lr_test.lam = lam\n",
    "    \n",
    "    if verbose:\n",
    "        (_,w_LAD) = gradDescentSAE(lr_train, verbose=True)\n",
    "    else:\n",
    "        (_,w_LAD) = gradDescentSAE(lr_train)\n",
    "    \n",
    "    sae_train = lr_train.SAE(w_LAD)\n",
    "    sae_test = lr_test.SAE(w_LAD)\n",
    "    sae_validate = lr_validate.SAE(w_LAD)\n",
    "    \n",
    "    if verbose:\n",
    "        print \"--LAD Statistics--\"\n",
    "        print \"M = \" + str(M)\n",
    "        print \"w_LAD = \" + str(w_LAD)\n",
    "        print \"SAE_train = \" + str(sae_train)\n",
    "        print \"SAE_validate = \" + str(sae_validate)\n",
    "        print \"SAE_test = \" + str(sae_test)\n",
    "\n",
    "    \n",
    "    return (sae_validate, sae_test, sae_train)\n",
    "\n",
    "\n",
    "def modelSelection(M, showPlot=False):\n",
    "    sseVal = lambda x: computeLAD(M, x, train_filename, test_filename, validate_filename, verbose=False)[0]\n",
    "    sseTest = lambda x: computeLAD(M, x, train_filename, test_filename, validate_filename, verbose=False)[1]\n",
    "    sseTrain = lambda x: computeLAD(M, x, train_filename, test_filename, validate_filename, verbose=False)[2]\n",
    "    \n",
    "    sseVal_vec = np.vectorize(sseVal)\n",
    "    sseTest_vec = np.vectorize(sseTest)\n",
    "    sseTrain_vec = np.vectorize(sseTrain)\n",
    "    \n",
    "    lam_vec = np.linspace(0,10,200)\n",
    "    a = sseVal_vec(lam_vec)\n",
    "    b = sseTest_vec(lam_vec)\n",
    "    c = sseTrain_vec(lam_vec)\n",
    "    \n",
    "    lam_min_idx = np.argmin(a)\n",
    "    lam_min = lam_vec[lam_min_idx]\n",
    "    \n",
    "    lr_train = LinearRegression.fromFile(train_filename, M)\n",
    "    (_,w_LAD) = gradDescentSAE(lr_train)\n",
    "    w_LAD = lr_train.ridge(lam_min) # NEED TO BE ABLE TO SPECIFY LAMBDA\n",
    "    \n",
    "\n",
    "    if showPlot:\n",
    "#         plt.plot(lam_vec, a, color='b')\n",
    "#         plt.plot(lam_vec, b, color='g')\n",
    "        plot(lr_train, w_LAD, plot_sin=False, plot_test=True, plot_validate=True)\n",
    "        plt.show()\n",
    "        \n",
    "    print \" \"\n",
    "    print \"-------------\"\n",
    "    print \"M = \" + str(M)\n",
    "    print \"argmin lambda = \" + str(lam_min)\n",
    "    print \"SAE_train = \" + str(c[lam_min_idx])\n",
    "    print \"SAE_val = \" + str(a[lam_min_idx])\n",
    "    print \"SAE_test = \" + str(b[lam_min_idx])\n",
    "    print \"----------------\"\n",
    "    print \" \"\n",
    "\n",
    "\n",
    "filename = 'regress_train.txt'\n",
    "M = 1\n",
    "\n",
    "test_filename = \"regress_test.txt\"\n",
    "train_filename = \"regress_train.txt\"\n",
    "validate_filename = \"regress_validate.txt\"\n",
    "\n",
    "\n",
    "# # Example of just calling gradDescentSAE directly after calling an lr object\n",
    "# lr = LinearRegression.fromFile(filename, M=1)\n",
    "# lr.lam = 100\n",
    "# (lr, w) = gradDescentSAE(lr, verbose=True)\n",
    "\n",
    "# # Example of calling computeLAD (which in turn calls gradDescentSAE)\n",
    "# M = 3\n",
    "# lam = 0.000001\n",
    "# computeLAD(M, lam, train_filename, test_filename, validate_filename, verbose=True)\n",
    "\n",
    "\n",
    "for m in range(0,6):\n",
    "    modelSelection(m, showPlot=False)"
   ]
  },
  {
   "cell_type": "markdown",
   "metadata": {},
   "source": [
    "### Plot minimum for each M"
   ]
  },
  {
   "cell_type": "code",
   "execution_count": 25,
   "metadata": {
    "collapsed": false
   },
   "outputs": [
    {
     "name": "stdout",
     "output_type": "stream",
     "text": [
      " \n",
      "--- Scipy Minimization Summary --- \n",
      "x_min is = [ 0.29999999]\n",
      "f_min is = 18.2859136078\n",
      "numFunctionCalls = 15\n",
      "---------------------------- \n",
      " \n"
     ]
    },
    {
     "data": {
      "image/png": "[encoded data removed]",
      "text/plain": [
       "<matplotlib.figure.Figure at 0x11d1f1690>"
      ]
     },
     "metadata": {},
     "output_type": "display_data"
    },
    {
     "name": "stdout",
     "output_type": "stream",
     "text": [
      "--LAD Statistics--\n",
      "M = 0\n",
      "w_LAD = [ 0.29999999]\n",
      "reg. SAE_train = 18.2859136078\n",
      "reg. SAE_validate = 13.8005613879\n",
      "reg. SAE_test = 18.8849417276\n",
      " \n",
      "--- Scipy Minimization Summary --- \n",
      "x_min is = [ 1.10280368  0.84883244]\n",
      "f_min is = 6.29138628172\n",
      "numFunctionCalls = 200\n",
      "---------------------------- \n",
      " \n"
     ]
    },
    {
     "data": {
      "image/png": "[encoded data removed]",
      "text/plain": [
       "<matplotlib.figure.Figure at 0x11d1f1150>"
      ]
     },
     "metadata": {},
     "output_type": "display_data"
    },
    {
     "name": "stdout",
     "output_type": "stream",
     "text": [
      "--LAD Statistics--\n",
      "M = 1\n",
      "w_LAD = [ 1.10280368  0.84883244]\n",
      "reg. SAE_train = 6.29138628172\n",
      "reg. SAE_validate = 3.13794139109\n",
      "reg. SAE_test = 3.70944731458\n",
      " \n",
      "--- Scipy Minimization Summary --- \n",
      "x_min is = [ 1.03583513  0.83556831  0.00845789]\n",
      "f_min is = 6.59182150835\n",
      "numFunctionCalls = 245\n",
      "---------------------------- \n",
      " \n"
     ]
    },
    {
     "data": {
      "image/png": "[encoded data removed]",
      "text/plain": [
       "<matplotlib.figure.Figure at 0x11d554b90>"
      ]
     },
     "metadata": {},
     "output_type": "display_data"
    },
    {
     "name": "stdout",
     "output_type": "stream",
     "text": [
      "--LAD Statistics--\n",
      "M = 2\n",
      "w_LAD = [ 1.03583513  0.83556831  0.00845789]\n",
      "reg. SAE_train = 6.59182150835\n",
      "reg. SAE_validate = 3.1936612314\n",
      "reg. SAE_test = 4.10270492292\n",
      " \n",
      "--- Scipy Minimization Summary --- \n",
      "x_min is = [ 0.35131414  0.42281385  0.22128646  0.12578759]\n",
      "f_min is = 12.811889833\n",
      "numFunctionCalls = 347\n",
      "---------------------------- \n",
      " \n"
     ]
    },
    {
     "data": {
      "image/png": "[encoded data removed]",
      "text/plain": [
       "<matplotlib.figure.Figure at 0x11cf33750>"
      ]
     },
     "metadata": {},
     "output_type": "display_data"
    },
    {
     "name": "stdout",
     "output_type": "stream",
     "text": [
      "--LAD Statistics--\n",
      "M = 3\n",
      "w_LAD = [ 0.35131414  0.42281385  0.22128646  0.12578759]\n",
      "reg. SAE_train = 12.811889833\n",
      "reg. SAE_validate = 6.81863128371\n",
      "reg. SAE_test = 9.13495384512\n",
      " \n",
      "--- Scipy Minimization Summary --- \n",
      "x_min is = [ 0.54866803  0.70544438  0.21935458  0.04752867 -0.01500857]\n",
      "f_min is = 11.5075778798\n",
      "numFunctionCalls = 431\n",
      "---------------------------- \n",
      " \n"
     ]
    },
    {
     "data": {
      "image/png": "[encoded data removed]",
      "text/plain": [
       "<matplotlib.figure.Figure at 0x11cf3a190>"
      ]
     },
     "metadata": {},
     "output_type": "display_data"
    },
    {
     "name": "stdout",
     "output_type": "stream",
     "text": [
      "--LAD Statistics--\n",
      "M = 4\n",
      "w_LAD = [ 0.54866803  0.70544438  0.21935458  0.04752867 -0.01500857]\n",
      "reg. SAE_train = 11.5075778798\n",
      "reg. SAE_validate = 6.59914234928\n",
      "reg. SAE_test = 8.26758101438\n",
      " \n",
      "--- Scipy Minimization Summary --- \n",
      "x_min is = [ 0.2297904   0.32568943  0.13114877  0.376926    0.010206   -0.05182575]\n",
      "f_min is = 12.9959469816\n",
      "numFunctionCalls = 428\n",
      "---------------------------- \n",
      " \n"
     ]
    },
    {
     "data": {
      "image/png": "[encoded data removed]",
      "text/plain": [
       "<matplotlib.figure.Figure at 0x11d081f90>"
      ]
     },
     "metadata": {},
     "output_type": "display_data"
    },
    {
     "name": "stdout",
     "output_type": "stream",
     "text": [
      "--LAD Statistics--\n",
      "M = 5\n",
      "w_LAD = [ 0.2297904   0.32568943  0.13114877  0.376926    0.010206   -0.05182575]\n",
      "reg. SAE_train = 12.9959469816\n",
      "reg. SAE_validate = 6.98498639999\n",
      "reg. SAE_test = 13.3460908964\n"
     ]
    },
    {
     "data": {
      "text/plain": [
       "(6.984986399986056, 13.346090896355854, 12.995946981565318)"
      ]
     },
     "execution_count": 25,
     "metadata": {},
     "output_type": "execute_result"
    }
   ],
   "source": [
    "M = 0\n",
    "lam = 10.0\n",
    "computeLAD(M, lam, train_filename, test_filename, validate_filename, verbose=True)\n",
    "\n",
    "M = 1\n",
    "lam = 0.0\n",
    "computeLAD(M, lam, train_filename, test_filename, validate_filename, verbose=True)\n",
    "\n",
    "M = 2\n",
    "lam = 0.0502512562814\n",
    "computeLAD(M, lam, train_filename, test_filename, validate_filename, verbose=True)\n",
    "\n",
    "M = 3\n",
    "lam = 6.08040201005\n",
    "computeLAD(M, lam, train_filename, test_filename, validate_filename, verbose=True)\n",
    "\n",
    "M = 4\n",
    "lam = 3.56783919598\n",
    "computeLAD(M, lam, train_filename, test_filename, validate_filename, verbose=True)\n",
    "\n",
    "M = 5\n",
    "lam = 8.74371859296\n",
    "computeLAD(M, lam, train_filename, test_filename, validate_filename, verbose=True)"
   ]
  },
  {
   "cell_type": "markdown",
   "metadata": {
    "collapsed": false
   },
   "source": [
    "## 4.2"
   ]
  },
  {
   "cell_type": "code",
   "execution_count": null,
   "metadata": {
    "collapsed": false
   },
   "outputs": [],
   "source": [
    "(lasso,_,_,_,_) = LinearRegression.fromLASSOData()\n",
    "np.shape(lasso.phi)\n",
    "\n",
    "\n",
    "w_reg = lasso.reg()\n",
    "print w_reg\n",
    "\n",
    "w = lasso.Lasso(0, w_0=w_reg)\n",
    "print w\n"
   ]
  },
  {
   "cell_type": "code",
   "execution_count": null,
   "metadata": {
    "collapsed": true
   },
   "outputs": [],
   "source": []
  }
 ],
 "metadata": {
  "kernelspec": {
   "display_name": "Python 2",
   "language": "python",
   "name": "python2"
  },
  "language_info": {
   "codemirror_mode": {
    "name": "ipython",
    "version": 2
   },
   "file_extension": ".py",
   "mimetype": "text/x-python",
   "name": "python",
   "nbconvert_exporter": "python",
   "pygments_lexer": "ipython2",
   "version": "2.7.10"
  }
 },
 "nbformat": 4,
 "nbformat_minor": 0
}
