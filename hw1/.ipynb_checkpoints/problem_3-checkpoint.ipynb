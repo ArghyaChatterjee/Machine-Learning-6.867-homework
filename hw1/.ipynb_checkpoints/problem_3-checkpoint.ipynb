{
 "cells": [
  {
   "cell_type": "code",
   "execution_count": 1,
   "metadata": {
    "collapsed": true
   },
   "outputs": [],
   "source": [
    "import numpy as np\n",
    "import matplotlib.pyplot as plt\n",
    "import scipy.optimize as opt\n",
    "import os\n",
    "from linear_regression import LinearRegression\n",
    "from gradient_descent import GradientDescent, quad, quadGrad\n",
    "%matplotlib inline"
   ]
  },
  {
   "cell_type": "code",
   "execution_count": 2,
   "metadata": {
    "collapsed": false
   },
   "outputs": [
    {
     "name": "stdout",
     "output_type": "stream",
     "text": [
      "--Ridge Regression Statistics--\n",
      "w_ridge = [ 1.41110495  0.3547736 ]\n",
      "SSE_train = 14.6572814207\n",
      "SSE_validate = 13.9529873179\n",
      "SSE_test = 17.6287593958\n"
     ]
    },
    {
     "data": {
      "image/png": "[encoded data removed]",
      "text/plain": [
       "<matplotlib.figure.Figure at 0x7fab23d47f10>"
      ]
     },
     "metadata": {},
     "output_type": "display_data"
    },
    {
     "name": "stdout",
     "output_type": "stream",
     "text": [
      " \n",
      "-------------\n",
      "M = 0\n",
      "argmin lambda = 10.0\n",
      "SSE_train = 23.8531121405\n",
      "SSE_val = 21.9236360118\n",
      "SSE_test = 32.3215991805\n",
      "----------------\n",
      " \n",
      " \n",
      "-------------\n",
      "M = 1\n",
      "argmin lambda = 6.53266331658\n",
      "SSE_train = 18.3617212364\n",
      "SSE_val = 11.4438516334\n",
      "SSE_test = 16.8939598372\n",
      "----------------\n",
      " \n",
      " \n",
      "-------------\n",
      "M = 2\n",
      "argmin lambda = 1.80904522613\n",
      "SSE_train = 12.4138336947\n",
      "SSE_val = 8.91996688239\n",
      "SSE_test = 24.1285791444\n",
      "----------------\n",
      " \n",
      " \n",
      "-------------\n",
      "M = 3\n",
      "argmin lambda = 0.100502512563\n",
      "SSE_train = 9.83773289738\n",
      "SSE_val = 3.60078310093\n",
      "SSE_test = 23.5464243116\n",
      "----------------\n",
      " \n",
      " \n",
      "-------------\n",
      "M = 4\n",
      "argmin lambda = 0.854271356784\n",
      "SSE_train = 8.70102995515\n",
      "SSE_val = 0.987786480892\n",
      "SSE_test = 27.4763457011\n",
      "----------------\n",
      " \n",
      " \n",
      "-------------\n",
      "M = 5\n",
      "argmin lambda = 8.94472361809\n",
      "SSE_train = 10.379397931\n",
      "SSE_val = 2.19305884364\n",
      "SSE_test = 36.47314725\n",
      "----------------\n",
      " \n"
     ]
    }
   ],
   "source": [
    "def plot(lr,w, plot_sin=True, plot_test=False, plot_validate=False):\n",
    "    # plot sin(2*phi*x) in green\n",
    "    x_min = np.amin(lr.x)\n",
    "    x_max = np.amax(lr.x)\n",
    "    x = np.linspace(-3,3,1000)\n",
    "    M = lr.numFeatures - 1\n",
    "    sin_x = np.sin(2*np.pi*x)\n",
    "    lr_temp = LinearRegression(x,x,lr.numFeatures-1)\n",
    "    reg_prediction = np.dot(lr_temp.phi,w)\n",
    "    \n",
    "    lr_validate = LinearRegression.fromFile(validate_filename, M)\n",
    "    lr_test = LinearRegression.fromFile(test_filename, M)\n",
    "    \n",
    "    \n",
    "    if plot_sin:\n",
    "        plt.plot(x,sin_x, color='g')\n",
    "        \n",
    "    plt.plot(x, reg_prediction, color='r')\n",
    "    \n",
    "    # the training set is plotted in blue\n",
    "    plt.scatter(lr.x, lr.y, color='r', marker='o',facecolors='none')\n",
    "    \n",
    "    # test set plotted in green\n",
    "    if plot_test:\n",
    "        plt.scatter(lr_test.x, lr_test.y, color='g', marker='o',facecolors='none')\n",
    "        \n",
    "    # validation set plotted in orange\n",
    "    if plot_test:\n",
    "        plt.scatter(lr_validate.x, lr_validate.y, color='b', marker='o',facecolors='none')\n",
    "        \n",
    "        \n",
    "    plt.show()\n",
    "    \n",
    "def plotRidge(M,lam):\n",
    "    lr = LinearRegression.fromFile(filename, M)\n",
    "    w_ridge = lr.ridge(lam)\n",
    "    sse = lr.SSE(w_ridge)\n",
    "    plot(lr,w_ridge)\n",
    "    print \" \"\n",
    "    print \"--Ridge Regression Statistics--\"\n",
    "    print \"w_ridge = \" + str(w_ridge)\n",
    "    print \"SSE = \" + str(sse) \n",
    "    \n",
    "\n",
    "def computeRidge(M, lam, train, test, validate, verbose=True):\n",
    "    lr_train = LinearRegression.fromFile(train, M)\n",
    "    lr_validate = LinearRegression.fromFile(validate, M)\n",
    "    lr_test = LinearRegression.fromFile(test, M)\n",
    "    \n",
    "    w_ridge = lr_train.ridge(lam)\n",
    "    sse_train = lr_train.SSE(w_ridge)\n",
    "    sse_test = lr_test.SSE(w_ridge)\n",
    "    sse_validate = lr_validate.SSE(w_ridge)\n",
    "    \n",
    "    if verbose:\n",
    "        print \"--Ridge Regression Statistics--\"\n",
    "        print \"w_ridge = \" + str(w_ridge)\n",
    "        print \"SSE_train = \" + str(sse_train)\n",
    "        print \"SSE_validate = \" + str(sse_validate)\n",
    "        print \"SSE_test = \" + str(sse_test)\n",
    "\n",
    "        plot(lr_train, w_ridge, plot_sin=False, plot_test=True, plot_validate=True)\n",
    "    \n",
    "    return (sse_validate, sse_test, sse_train)\n",
    "\n",
    "def modelSelection(M, showPlot=False):\n",
    "    sseVal = lambda x: computeRidge(M, x, train_filename, test_filename, validate_filename, verbose=False)[0]\n",
    "    sseTest = lambda x: computeRidge(M, x, train_filename, test_filename, validate_filename, verbose=False)[1]\n",
    "    sseTrain = lambda x: computeRidge(M, x, train_filename, test_filename, validate_filename, verbose=False)[2]\n",
    "    \n",
    "    sseVal_vec = np.vectorize(sseVal)\n",
    "    sseTest_vec = np.vectorize(sseTest)\n",
    "    sseTrain_vec = np.vectorize(sseTrain)\n",
    "    \n",
    "    lam_vec = np.linspace(0,10,200)\n",
    "    a = sseVal_vec(lam_vec)\n",
    "    b = sseTest_vec(lam_vec)\n",
    "    c = sseTrain_vec(lam_vec)\n",
    "    \n",
    "    lam_min_idx = np.argmin(a)\n",
    "    lam_min = lam_vec[lam_min_idx]\n",
    "    \n",
    "    lr_train = lr_train = LinearRegression.fromFile(train_filename, M)\n",
    "    w_ridge = lr_train.ridge(lam_min)\n",
    "    \n",
    "\n",
    "    if showPlot:\n",
    "#         plt.plot(lam_vec, a, color='b')\n",
    "#         plt.plot(lam_vec, b, color='g')\n",
    "        plot(lr_train, w_ridge, plot_sin=False, plot_test=True, plot_validate=True)\n",
    "        plt.show()\n",
    "        \n",
    "    print \" \"\n",
    "    print \"-------------\"\n",
    "    print \"M = \" + str(M)\n",
    "    print \"argmin lambda = \" + str(lam_min)\n",
    "    print \"SSE_train = \" + str(c[lam_min_idx])\n",
    "    print \"SSE_val = \" + str(a[lam_min_idx])\n",
    "    print \"SSE_test = \" + str(b[lam_min_idx])\n",
    "    print \"----------------\"\n",
    "    print \" \"\n",
    "    \n",
    "    \n",
    "\n",
    "\n",
    "    \n",
    "filename = \"curvefitting.txt\"\n",
    "test_filename = \"regress_test.txt\"\n",
    "train_filename = \"regress_train.txt\"\n",
    "validate_filename = \"regress_validate.txt\"\n",
    "M = 1\n",
    "lam =1.14\n",
    "# plotRidge(M, lam)\n",
    "computeRidge(M, lam, train_filename, test_filename, validate_filename, verbose=True)\n",
    "\n",
    "# sseVal = lambda x: computeRidge(M, x, train_filename, test_filename, validate_filename, verbose=False)[0]\n",
    "# sseTest = lambda x: computeRidge(M, x, train_filename, test_filename, validate_filename, verbose=False)[1]\n",
    "\n",
    "# sseVal_vec = np.vectorize(sseVal)\n",
    "# sseTest_vec = np.vectorize(sseTest)\n",
    "\n",
    "# lam_vec = np.linspace(0,10,100)\n",
    "# a = sseVal_vec(lam_vec)\n",
    "# b = sseTest_vec(lam_vec)\n",
    "\n",
    "# plt.plot(lam_vec, a, color='b')\n",
    "# plt.plot(lam_vec, b, color='g')\n",
    "\n",
    "for m in range(0,6):\n",
    "    modelSelection(m, showPlot=False)\n",
    "    \n",
    "\n",
    "  "
   ]
  },
  {
   "cell_type": "markdown",
   "metadata": {},
   "source": [
    "sseVal_vec(np.array([1,2]))"
   ]
  },
  {
   "cell_type": "markdown",
   "metadata": {},
   "source": [
    "### Blog Feedback"
   ]
  },
  {
   "cell_type": "code",
   "execution_count": 10,
   "metadata": {
    "collapsed": true
   },
   "outputs": [],
   "source": [
    "lr_train = LinearRegression.fromBlog(type='train')\n",
    "lr_validate = LinearRegression.fromBlog(type='val')\n",
    "lr_test = LinearRegression.fromBlog(type='test')"
   ]
  },
  {
   "cell_type": "code",
   "execution_count": 65,
   "metadata": {
    "collapsed": false
   },
   "outputs": [
    {
     "name": "stdout",
     "output_type": "stream",
     "text": [
      "evaluating for a specific lambda\n",
      "evaluating for a specific lambda\n",
      "evaluating for a specific lambda\n",
      "evaluating for a specific lambda\n",
      "evaluating for a specific lambda\n",
      "evaluating for a specific lambda\n",
      "evaluating for a specific lambda\n",
      "evaluating for a specific lambda\n",
      "evaluating for a specific lambda\n",
      "evaluating for a specific lambda\n",
      "evaluating for a specific lambda\n",
      "evaluating for a specific lambda\n",
      "evaluating for a specific lambda\n",
      "evaluating for a specific lambda\n",
      "evaluating for a specific lambda\n",
      "evaluating for a specific lambda\n",
      "evaluating for a specific lambda\n",
      "evaluating for a specific lambda\n",
      "evaluating for a specific lambda\n",
      "evaluating for a specific lambda\n",
      "evaluating for a specific lambda\n",
      "evaluating for a specific lambda\n",
      "evaluating for a specific lambda\n",
      "evaluating for a specific lambda\n",
      "evaluating for a specific lambda\n",
      "evaluating for a specific lambda\n",
      "evaluating for a specific lambda\n",
      "evaluating for a specific lambda\n",
      "evaluating for a specific lambda\n",
      "evaluating for a specific lambda\n",
      "evaluating for a specific lambda\n",
      "evaluating for a specific lambda\n",
      "evaluating for a specific lambda\n"
     ]
    },
    {
     "data": {
      "image/png": "[encoded data removed]",
      "text/plain": [
       "<matplotlib.figure.Figure at 0x7fab23356250>"
      ]
     },
     "metadata": {},
     "output_type": "display_data"
    },
    {
     "name": "stdout",
     "output_type": "stream",
     "text": [
      " \n",
      "-------------\n",
      "argmin lambda = 31.437\n",
      "argmin lambda/num_obs = 0.001\n",
      "MSE_train = 881.555747668\n",
      "MSE_val = 1015.7106674\n",
      "MSE_test = 898.291679905\n",
      "----------------\n",
      " \n"
     ]
    }
   ],
   "source": [
    "def computeBlogRidge(lam, verbose=True):\n",
    "    \n",
    "    print \"evaluating for a specific lambda\"\n",
    "    \n",
    "    w_ridge = lr_train.ridge(lam)\n",
    "    mse_train = lr_train.MSE(w_ridge)\n",
    "    mse_test = lr_test.MSE(w_ridge)\n",
    "    mse_validate = lr_validate.MSE(w_ridge)\n",
    "    \n",
    "    if verbose:\n",
    "        print \"--Ridge Regression Statistics--\"\n",
    "#         print \"w_ridge = \" + str(w_ridge)\n",
    "        print \"MSE_train = \" + str(mse_train)\n",
    "        print \"MSE_validate = \" + str(mse_validate)\n",
    "        print \"MSE_test = \" + str(mse_test)\n",
    "    \n",
    "    return (mse_validate, mse_test, mse_train)\n",
    "\n",
    "def blogModelSelection(showPlot=True):\n",
    "    sseVal = lambda x: computeBlogRidge(x, verbose=False)[0]\n",
    "    sseTest = lambda x: computeBlogRidge(x, verbose=False)[1]\n",
    "    sseTrain = lambda x: computeBlogRidge(x, verbose=False)[2]\n",
    "    num_obs = 1.0*np.shape(lr_train.phi)[0]\n",
    "    \n",
    "    sseVal_vec = np.vectorize(sseVal)\n",
    "    sseTest_vec = np.vectorize(sseTest)\n",
    "    sseTrain_vec = np.vectorize(sseTrain)\n",
    "    \n",
    "    lam_vec = num_obs*np.linspace(0.001,20,10)\n",
    "    a = sseVal_vec(lam_vec)\n",
    "    b = sseTest_vec(lam_vec)\n",
    "    c = sseTrain_vec(lam_vec)\n",
    "    \n",
    "    lam_min_idx = np.argmin(a)\n",
    "    lam_min = lam_vec[lam_min_idx]\n",
    "    \n",
    "    \n",
    "    \n",
    "\n",
    "    if showPlot:\n",
    "#         plt.plot(lam_vec, c, color='r')\n",
    "#         plt.plot(lam_vec/num_obs, a, color='b')\n",
    "        plt.plot(lam_vec, b, color='g')\n",
    "        plt.show()\n",
    "        \n",
    "    print \" \"\n",
    "    print \"-------------\"\n",
    "    print \"argmin lambda = \" + str(lam_min)\n",
    "    print \"argmin lambda/num_obs = \" + str(lam_min/(num_obs))\n",
    "    print \"MSE_train = \" + str(c[lam_min_idx])\n",
    "    print \"MSE_val = \" + str(a[lam_min_idx])\n",
    "    print \"MSE_test = \" + str(b[lam_min_idx])\n",
    "    print \"----------------\"\n",
    "    print \" \" \n",
    "    \n",
    "\n",
    "# lr_train = LinearRegression.fromBlog(type='train')\n",
    "blogModelSelection()"
   ]
  },
  {
   "cell_type": "code",
   "execution_count": 61,
   "metadata": {
    "collapsed": false
   },
   "outputs": [
    {
     "name": "stdout",
     "output_type": "stream",
     "text": [
      "evaluating for a specific lambda\n",
      "--Ridge Regression Statistics--\n",
      "MSE_train = 898.219348762\n",
      "MSE_validate = 1020.63977211\n",
      "MSE_test = 883.250783003\n"
     ]
    },
    {
     "data": {
      "text/plain": [
       "(1020.6397721138209, 883.25078300293228, 898.21934876158605)"
      ]
     },
     "execution_count": 61,
     "metadata": {},
     "output_type": "execute_result"
    }
   ],
   "source": [
    "num_obs = 31437\n",
    "computeBlogRidge(num_obs*30)"
   ]
  },
  {
   "cell_type": "code",
   "execution_count": 45,
   "metadata": {
    "collapsed": false
   },
   "outputs": [
    {
     "data": {
      "text/plain": [
       "10480"
      ]
     },
     "execution_count": 45,
     "metadata": {},
     "output_type": "execute_result"
    }
   ],
   "source": [
    "np.shape(lr_validate.phi)[0]"
   ]
  },
  {
   "cell_type": "code",
   "execution_count": 48,
   "metadata": {
    "collapsed": false
   },
   "outputs": [
    {
     "data": {
      "text/plain": [
       "29.832867780352597"
      ]
     },
     "execution_count": 48,
     "metadata": {},
     "output_type": "execute_result"
    }
   ],
   "source": [
    "np.sqrt(890)"
   ]
  },
  {
   "cell_type": "code",
   "execution_count": null,
   "metadata": {
    "collapsed": true
   },
   "outputs": [],
   "source": []
  }
 ],
 "metadata": {
  "kernelspec": {
   "display_name": "Python 2",
   "language": "python",
   "name": "python2"
  },
  "language_info": {
   "codemirror_mode": {
    "name": "ipython",
    "version": 2
   },
   "file_extension": ".py",
   "mimetype": "text/x-python",
   "name": "python",
   "nbconvert_exporter": "python",
   "pygments_lexer": "ipython2",
   "version": "2.7.10"
  }
 },
 "nbformat": 4,
 "nbformat_minor": 0
}
